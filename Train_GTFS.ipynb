{
 "cells": [
  {
   "cell_type": "code",
   "execution_count": 1,
   "id": "fa924a48-dca2-4928-9e55-400a3186c2cb",
   "metadata": {},
   "outputs": [],
   "source": [
    "try:\n",
    "    import polars as pl\n",
    "except ImportError:\n",
    "    !pip install polars\n",
    "    import polars as pl"
   ]
  },
  {
   "cell_type": "markdown",
   "id": "1ef370d9-fd62-42c6-a5d4-696cdac2bd2a",
   "metadata": {},
   "source": [
    "### Add Coordinates to Stations "
   ]
  },
  {
   "cell_type": "code",
   "execution_count": 2,
   "id": "806128a0-2653-4d7e-b0c0-289ca8800d72",
   "metadata": {},
   "outputs": [
    {
     "data": {
      "text/html": [
       "<div><style>\n",
       ".dataframe > thead > tr,\n",
       ".dataframe > tbody > tr {\n",
       "  text-align: right;\n",
       "  white-space: pre-wrap;\n",
       "}\n",
       "</style>\n",
       "<small>shape: (2_544_010, 19)</small><table border=\"1\" class=\"dataframe\"><thead><tr><th>Searched Station</th><th>Date</th><th>Train Nr.</th><th>Train Type</th><th>Departing Station</th><th>Scheduled Departure Time</th><th>Arrival Station</th><th>Scheduled Arrival Time</th><th>Actual Arrival Time</th><th>Delay</th><th>Cancellation</th><th>On Time</th><th>Departure Hour</th><th>Arrival Hour</th><th>Day of Week</th><th>Month</th><th>Year</th><th>Station Latitude</th><th>Station Longitude</th></tr><tr><td>str</td><td>date</td><td>str</td><td>str</td><td>str</td><td>datetime[μs]</td><td>str</td><td>datetime[μs]</td><td>datetime[μs]</td><td>i64</td><td>i32</td><td>i32</td><td>i8</td><td>i8</td><td>i8</td><td>i8</td><td>i32</td><td>f64</td><td>f64</td></tr></thead><tbody><tr><td>&quot;Landeck_Zams&quot;</td><td>2024-09-30</td><td>&quot;RJX 869&quot;</td><td>&quot;RJX&quot;</td><td>&quot;Bregenz&quot;</td><td>2024-09-30 12:40:00</td><td>&quot;Landeck-Zams&quot;</td><td>2024-09-30 14:25:00</td><td>2024-09-30 14:27:00</td><td>2</td><td>0</td><td>1</td><td>12</td><td>14</td><td>1</td><td>9</td><td>2024</td><td>47.148287</td><td>10.578534</td></tr><tr><td>&quot;Wien_Hbf&quot;</td><td>2025-01-08</td><td>&quot;RJ 130&quot;</td><td>&quot;RJ&quot;</td><td>&quot;Venezia Santa Lucia&quot;</td><td>2025-01-08 15:52:00</td><td>&quot;Wien Hbf&quot;</td><td>2025-01-08 23:36:00</td><td>2025-01-09 00:10:00</td><td>34</td><td>0</td><td>0</td><td>15</td><td>23</td><td>3</td><td>1</td><td>2025</td><td>48.185332</td><td>16.37865</td></tr><tr><td>&quot;Attnang_Puchheim&quot;</td><td>2024-07-05</td><td>&quot;WB 917&quot;</td><td>&quot;WB&quot;</td><td>&quot;Salzburg Hbf&quot;</td><td>2024-07-05 12:52:00</td><td>&quot;Attnang-Puchheim&quot;</td><td>2024-07-05 13:35:00</td><td>2024-07-05 13:35:00</td><td>0</td><td>0</td><td>1</td><td>12</td><td>13</td><td>5</td><td>7</td><td>2024</td><td>48.012244</td><td>13.720598</td></tr><tr><td>&quot;Tullnerfeld&quot;</td><td>2024-01-20</td><td>&quot;NJ 446&quot;</td><td>&quot;NJ&quot;</td><td>&quot;Wien Hbf (Autoreisezuganlage)&quot;</td><td>2024-01-20 22:44:00</td><td>&quot;Tullnerfeld&quot;</td><td>2024-01-20 23:19:00</td><td>2024-01-20 23:20:00</td><td>1</td><td>0</td><td>1</td><td>22</td><td>23</td><td>6</td><td>1</td><td>2024</td><td>48.295004</td><td>15.996219</td></tr><tr><td>&quot;Schärding&quot;</td><td>2024-02-28</td><td>&quot;IC 296&quot;</td><td>&quot;IC&quot;</td><td>&quot;Fürth Hbf&quot;</td><td>2024-02-28 00:33:00</td><td>&quot;Schärding&quot;</td><td>2024-02-28 21:25:00</td><td>2024-02-28 21:25:00</td><td>0</td><td>0</td><td>1</td><td>0</td><td>21</td><td>3</td><td>2</td><td>2024</td><td>48.46422</td><td>13.442111</td></tr><tr><td>&hellip;</td><td>&hellip;</td><td>&hellip;</td><td>&hellip;</td><td>&hellip;</td><td>&hellip;</td><td>&hellip;</td><td>&hellip;</td><td>&hellip;</td><td>&hellip;</td><td>&hellip;</td><td>&hellip;</td><td>&hellip;</td><td>&hellip;</td><td>&hellip;</td><td>&hellip;</td><td>&hellip;</td><td>&hellip;</td><td>&hellip;</td></tr><tr><td>&quot;Wien_Meidling&quot;</td><td>2023-06-26</td><td>&quot;NJ 490&quot;</td><td>&quot;NJ&quot;</td><td>&quot;Wien Hbf&quot;</td><td>2023-06-26 19:35:00</td><td>&quot;Wien Meidling&quot;</td><td>2023-06-26 19:40:00</td><td>2023-06-26 19:41:00</td><td>1</td><td>0</td><td>1</td><td>19</td><td>19</td><td>1</td><td>6</td><td>2023</td><td>48.174652</td><td>16.333905</td></tr><tr><td>&quot;Wels_Hbf&quot;</td><td>2023-05-25</td><td>&quot;RJX 42&quot;</td><td>&quot;RJX&quot;</td><td>&quot;Mosonmagyarovar&quot;</td><td>2023-05-25 19:20:00</td><td>&quot;Wels Hbf&quot;</td><td>2023-05-25 22:00:00</td><td>2023-05-25 22:00:00</td><td>0</td><td>0</td><td>1</td><td>19</td><td>22</td><td>4</td><td>5</td><td>2023</td><td>48.165701</td><td>14.026241</td></tr><tr><td>&quot;St._Pölten_Hbf&quot;</td><td>2024-12-18</td><td>&quot;EN 406&quot;</td><td>&quot;EN&quot;</td><td>&quot;Zebrzydowice&quot;</td><td>2024-12-18 04:26:00</td><td>&quot;St.Pölten Hbf&quot;</td><td>2024-12-18 22:41:00</td><td>2024-12-18 23:20:00</td><td>39</td><td>0</td><td>0</td><td>4</td><td>22</td><td>3</td><td>12</td><td>2024</td><td>48.208325</td><td>15.62464</td></tr><tr><td>&quot;Unzmarkt&quot;</td><td>2024-02-27</td><td>&quot;RJ 633&quot;</td><td>&quot;RJ&quot;</td><td>&quot;Wien Hbf&quot;</td><td>2024-02-27 18:24:00</td><td>&quot;Unzmarkt&quot;</td><td>2024-02-27 21:12:00</td><td>2024-02-27 21:33:00</td><td>21</td><td>0</td><td>0</td><td>18</td><td>21</td><td>2</td><td>2</td><td>2024</td><td>47.201071</td><td>14.443005</td></tr><tr><td>&quot;Attnang_Puchheim&quot;</td><td>2024-06-15</td><td>&quot;ICE 541&quot;</td><td>&quot;ICE&quot;</td><td>&quot;Köln Hbf&quot;</td><td>2024-06-15 04:25:00</td><td>&quot;Attnang-Puchheim&quot;</td><td>2024-06-15 05:58:00</td><td>2024-06-15 06:11:00</td><td>13</td><td>0</td><td>0</td><td>4</td><td>5</td><td>6</td><td>6</td><td>2024</td><td>48.012244</td><td>13.720598</td></tr></tbody></table></div>"
      ],
      "text/plain": [
       "shape: (2_544_010, 19)\n",
       "┌─────────────┬────────────┬───────────┬────────────┬───┬───────┬──────┬─────────────┬─────────────┐\n",
       "│ Searched    ┆ Date       ┆ Train Nr. ┆ Train Type ┆ … ┆ Month ┆ Year ┆ Station     ┆ Station     │\n",
       "│ Station     ┆ ---        ┆ ---       ┆ ---        ┆   ┆ ---   ┆ ---  ┆ Latitude    ┆ Longitude   │\n",
       "│ ---         ┆ date       ┆ str       ┆ str        ┆   ┆ i8    ┆ i32  ┆ ---         ┆ ---         │\n",
       "│ str         ┆            ┆           ┆            ┆   ┆       ┆      ┆ f64         ┆ f64         │\n",
       "╞═════════════╪════════════╪═══════════╪════════════╪═══╪═══════╪══════╪═════════════╪═════════════╡\n",
       "│ Landeck_Zam ┆ 2024-09-30 ┆ RJX 869   ┆ RJX        ┆ … ┆ 9     ┆ 2024 ┆ 47.148287   ┆ 10.578534   │\n",
       "│ s           ┆            ┆           ┆            ┆   ┆       ┆      ┆             ┆             │\n",
       "│ Wien_Hbf    ┆ 2025-01-08 ┆ RJ 130    ┆ RJ         ┆ … ┆ 1     ┆ 2025 ┆ 48.185332   ┆ 16.37865    │\n",
       "│ Attnang_Puc ┆ 2024-07-05 ┆ WB 917    ┆ WB         ┆ … ┆ 7     ┆ 2024 ┆ 48.012244   ┆ 13.720598   │\n",
       "│ hheim       ┆            ┆           ┆            ┆   ┆       ┆      ┆             ┆             │\n",
       "│ Tullnerfeld ┆ 2024-01-20 ┆ NJ 446    ┆ NJ         ┆ … ┆ 1     ┆ 2024 ┆ 48.295004   ┆ 15.996219   │\n",
       "│ Schärding   ┆ 2024-02-28 ┆ IC 296    ┆ IC         ┆ … ┆ 2     ┆ 2024 ┆ 48.46422    ┆ 13.442111   │\n",
       "│ …           ┆ …          ┆ …         ┆ …          ┆ … ┆ …     ┆ …    ┆ …           ┆ …           │\n",
       "│ Wien_Meidli ┆ 2023-06-26 ┆ NJ 490    ┆ NJ         ┆ … ┆ 6     ┆ 2023 ┆ 48.174652   ┆ 16.333905   │\n",
       "│ ng          ┆            ┆           ┆            ┆   ┆       ┆      ┆             ┆             │\n",
       "│ Wels_Hbf    ┆ 2023-05-25 ┆ RJX 42    ┆ RJX        ┆ … ┆ 5     ┆ 2023 ┆ 48.165701   ┆ 14.026241   │\n",
       "│ St._Pölten_ ┆ 2024-12-18 ┆ EN 406    ┆ EN         ┆ … ┆ 12    ┆ 2024 ┆ 48.208325   ┆ 15.62464    │\n",
       "│ Hbf         ┆            ┆           ┆            ┆   ┆       ┆      ┆             ┆             │\n",
       "│ Unzmarkt    ┆ 2024-02-27 ┆ RJ 633    ┆ RJ         ┆ … ┆ 2     ┆ 2024 ┆ 47.201071   ┆ 14.443005   │\n",
       "│ Attnang_Puc ┆ 2024-06-15 ┆ ICE 541   ┆ ICE        ┆ … ┆ 6     ┆ 2024 ┆ 48.012244   ┆ 13.720598   │\n",
       "│ hheim       ┆            ┆           ┆            ┆   ┆       ┆      ┆             ┆             │\n",
       "└─────────────┴────────────┴───────────┴────────────┴───┴───────┴──────┴─────────────┴─────────────┘"
      ]
     },
     "execution_count": 2,
     "metadata": {},
     "output_type": "execute_result"
    }
   ],
   "source": [
    "# Loading data\n",
    "df_all = pl.read_parquet(\"./Data/Train/Train_2years.parquet\")\n",
    "df_all"
   ]
  },
  {
   "cell_type": "code",
   "execution_count": 3,
   "id": "e32b02c5-8230-45cb-9052-9cec90387533",
   "metadata": {},
   "outputs": [],
   "source": [
    "# Load GTFS\n",
    "stops_23 = pl.read_csv(\"./Data/Train/GTFS/2023/stops.txt\")\n",
    "stops_24 = pl.read_csv(\"./Data/Train/GTFS/2024/stops.txt\")\n",
    "trips_23  = pl.read_csv(\"./Data/Train/GTFS/2023/trips.txt\")\n",
    "trips_24  = pl.read_csv(\"./Data/Train/GTFS/2024/trips.txt\")\n",
    "stop_times_23 = pl.read_csv(\"./Data/Train/GTFS/2023/stop_times.txt\")\n",
    "stop_times_24 = pl.read_csv(\"./Data/Train/GTFS/2024/stop_times.txt\")\n",
    "shapes_23 = pl.read_csv(\"./Data/Train/GTFS/2023/shapes.txt\")\n",
    "shapes_24 = pl.read_csv(\"./Data/Train/GTFS/2024/shapes.txt\")\n",
    "calendar_23 = pl.read_csv(\"./Data/Train/GTFS/2023/calendar.txt\")\n",
    "calendar_24 = pl.read_csv(\"./Data/Train/GTFS/2024/calendar.txt\")\n",
    "calendar_25 = pl.read_csv(\"./Data/Train/GTFS/calendar.txt\")\n",
    "calendar_dates_23 = pl.read_csv(\"./Data/Train/GTFS/2023/calendar_dates.txt\")\n",
    "calendar_dates_24 = pl.read_csv(\"./Data/Train/GTFS/2024/calendar_dates.txt\")\n",
    "calendar_dates_25 = pl.read_csv(\"./Data/Train/GTFS/calendar_dates.txt\")"
   ]
  },
  {
   "cell_type": "code",
   "execution_count": 4,
   "id": "8bddf785-5468-457a-8f9d-76a54fa25bf2",
   "metadata": {},
   "outputs": [],
   "source": [
    "# Getting Station Coordinates\n",
    "station_coords= pl.concat([stops_23.select([\"stop_name\", \"stop_lat\", \"stop_lon\"]), stops_24.select([\"stop_name\", \"stop_lat\", \"stop_lon\"])])\n",
    "\n",
    "station_coords = station_coords.group_by(\"stop_name\").agg([\n",
    "    pl.first(\"stop_lat\").alias(\"Station Latitude\"),\n",
    "    pl.first(\"stop_lon\").alias(\"Station Longitude\")\n",
    "])\n",
    "\n",
    "replace_map = {\n",
    "    \"Hauptbahnhof\": \"Hbf\",\n",
    "    \" Bahnhof\": \"\",\n",
    "    \" Bahnhst\": \"\",\n",
    "    \" (Bahnsteige 1-2)\": \"\",\n",
    "    \" 1\": \"\",\n",
    "}\n",
    "\n",
    "def replace_text(text):\n",
    "    for old, new in replace_map.items():\n",
    "        text = text.replace(old, new)\n",
    "    return text\n",
    "    \n",
    "station_coords = station_coords.with_columns(\n",
    "    pl.col(\"stop_name\")\n",
    "    .map_elements(replace_text, return_dtype = pl.String)\n",
    ")"
   ]
  },
  {
   "cell_type": "markdown",
   "id": "398c9aa7-4b74-4970-a39f-3924e21a9b31",
   "metadata": {},
   "source": [
    "### Join Data sets"
   ]
  },
  {
   "cell_type": "code",
   "execution_count": 5,
   "id": "62090e80-240d-4a17-89f7-3066b0ed799a",
   "metadata": {},
   "outputs": [],
   "source": [
    "# Prepare Station for joining\n",
    "replace_map = {\n",
    "    \"Wörther See\": \"Wörthersee\",\n",
    "    \"Linz\": \"Linz/Donau\",\n",
    "    \"Amstetten NÖ\": \"Amstetten\",\n",
    "    \"Pörtschach am Wörthersee\": \"Pörtschach\",\n",
    "    \"Spittal-Millstättersee\": \"Spittal-Millstätter See\",\n",
    "    \"Neumarkt am Wallersee\":  \"Neumarkt\",\n",
    "    \"Ötztal\": \"Ötztal-Bahnhof\",\n",
    "    \"Langen am Arlberg\": \"Langen a. A.\",\n",
    "    \"Stadt Rottenmann\": \"Rottenmann\",\n",
    "    \"Feldbach/Raab\": \"Feldbach\",\n",
    "    \"St.Michael in Obersteiermark\": \"St.Michael\",\n",
    "    \"St. Michael\": \"St.Michael\",\n",
    "    \"St.Veit/Glan\": \"St. Veit an der Glan\",\t\n",
    "    \"St. Anton am Arlberg\": \"St. Anton a. A.\",\n",
    "    \"St.Pölten Hbf\": \"St. Pölten Hbf\",\n",
    "    \"St. Johann im Pongau\": \"St.Johann\",\n",
    "    \"Linz/DonauHbf\": \"Linz/Donau Hbf\",\n",
    "    \"Krumpendorf/Wörthersee\": \"Krumpendorf\",\n",
    "    \"Seekirchen am Wallersee\": \"Seekirchen\",\n",
    "    \"Graz Ostbahnhof-Messe\": \"Graz Hbf\",\n",
    "    \"Kirchberg in Tirol\": \"Kirchberg i. T.\",\n",
    "    \"Golling/Salzach-Abtenau\": \"Golling-Abtenau\",\n",
    "    \"Micheldorf\": \"Micheldorf in OÖ\",\n",
    "    \"Salzburg Süd\": \"Salzburg Hbf\",\n",
    "    \"Altenmarkt im Pongau\": \"Altenmarkt\",\n",
    "    \"Friesach in Kärnten\": \"Friesach\",\n",
    "    \"Graz Hbf (Busbahnhof)\": \"Graz Hbf\",\n",
    "    \"Lienz in Osttirol\": \"Lienz\",\n",
    "    \"Stein/Enns\": \"Stein an der Enns\",\n",
    "    \"Schwarzach im Pongau-St.Veit\": \"Schwarzach-St.Veit\",\n",
    "    \"Hallwang-Elixhausen\": \"Hallwang-Elixhausen S-Bahn\",\n",
    "    \"St. Johann in Tirol\": \"St. Johann i. T.\",\n",
    "    \"Lasberg-St. Oswald\": \"Lasberg-St.Oswald\",\n",
    "    \"Hopfgarten im Brixental\": \"Hopfgarten i. Br.\",\n",
    "    \"Seefeld in Tirol\": \"Seefeld i. T.\",\n",
    "    \"Wien Hbf (Autoreisezuganlage)\": \"Wien Hbf\",\n",
    "    \"Wien Hbf (Autoreisezug)\": \"Wien Hbf\",\n",
    "    \"Vöcklabruck Bahnhof\": \"Vöcklabruck\",\n",
    "    \"Klaus an der Pyhrnbahn\": \"Klaus/Pyhrnbahn\",\n",
    "    \"Altmünster am Traunsee\": \"Altmünster/Traunsee\",\n",
    "    \"Wien Matzleinsdorfer Platz (ÖBB)\": \"Wien Hbf\",\n",
    "    \"Haus im Ennstal\": \"Haus\",\n",
    "    \"Baden b.Wien\": \"Baden\",\n",
    "    \"Micheldorf in OÖ in OÖ\": \"Micheldorf in OÖ\",\n",
    "    \"Neunkirchen NÖ\": \"Neunkirchen\",\n",
    "    \"Bad Mitterndorf Heilbrunn\": \"Bad Mitterndorf\",\n",
    "    \"Graz Don Bosco\": \"Graz Hbf\",\n",
    "    \"Kuchl\": \"Kuchl S-Bahn\",\n",
    "    \"Eben im Pongau\": \"Eben\",\n",
    "    \"Graz-Liebenau Murpark\": \"Graz Hbf\",\n",
    "    \"Ebensee/Traunsee\": \"Ebensee\",\n",
    "    \"Linz/Donau(Donau)Hbf\": \"Linz/Donau Hbf\",\n",
    "    \"Rosenbach bei Villach\": \"Rosenbach\",\n",
    "    \"Graz Hbf (Bahnsteige 1-2)\": \"Graz Hbf\",\n",
    "    \"Wien Hbf (Bahnsteige 1-2)\": \"Wien Hbf\",\n",
    "    \"St.Egyden am Steinfeld\": \"St. Egyden/Stfd\",\t\n",
    "    \"Rohr im Kremstal-Bad Hall\": \"Rohr-Bad Hall\",\n",
    "    \"Puch b.Hallein Urstein\": \"Puch Urstein (FH)\",\n",
    "    \"Steeg/Hallstätter See-Gosau\": \"Steeg-Gosau\",\n",
    "    \"Lend/Salzach\": \"Lend\",\n",
    "    \"Wien Mitte\": \"Wien Hbf\",\n",
    "    \"Kirchberg am Wagram\": \"Kirchberg am Wagram Bhf.\",\n",
    "    \"Deutsch Wagram\": \"Deutsch-Wagram\",\n",
    "    \"Wien Hbf-Landstraße\": \"Wien Hbf\",\n",
    "    \"Limberg NÖ-Maissau\": \"Limberg-Maissau\",\n",
    "    \"Lambach Markt\": \"Lambach OÖ\",\n",
    "    \"Bruck/Glocknerstraße-Fusch\": \"Bruck-Fusch\",\n",
    "    \"Graz Liebenau Murpark (Bahnhst)\": \"Graz Hbf\",\n",
    "    \"Wolkersdorf im Weinviertel\": \"Wolkersdorf\",\n",
    "    \"Studenzen-Fladnitz im Raabtal\": \"Studenzen-Fladnitz\",\n",
    "    \"Mixnitz Bärenschützklamm\": \"Mixnitz-Bärenschützklamm\",\n",
    "    \"Salzburg Taxham Europark\": \"Salzburg Hbf\",\n",
    "    \"Salzburg Parsch\": \"Salzburg Hbf\",\n",
    "    \"Tauplitz Schiflugschanze Kulm\": \"Tauplitz\",\n",
    "    \"Pernegg/Mur\": \"Pernegg\",\n",
    "    \"Bad Vigaun\": \"Bad Vigaun S-Bahn\",\n",
    "    \"Puch bei Hallein\": \"Puch Urstein (FH)\",\n",
    "    \"Unter Purkersdorf\": \"Purkersdorf Zentrum\",\n",
    "    \"Salzburg Mülln-Altstadt\": \"Salzburg Hbf\",\n",
    "    \"Salzburg Aiglhof\": \"Salzburg Hbf\",\n",
    "    \"Krems an der Donau\": \"Krems\",\n",
    "    \"Hallein Burgfried\": \"Hallein\",\n",
    "    \"St.Johann-Weistrach\": \"St. Johann-Weistrach\",\n",
    "    \"Kuchl S-Bahn Garnei\": \"Kuchl S-Bahn\",\n",
    "    \"Gmunden Engelhof\": \"Gmunden\",\n",
    "    \"Rohrendorf b.Krems\": \"Rohrendorf/Krems\",\n",
    "    \"Purkersdorf b.Wien Zentrum\": \"Purkersdorf Zentrum\",\n",
    "    \"Purkersdorf b.Wien Sanatorium\": \"Purkersdorf Zentrum\",\n",
    "    \"Salzburg Sam\": \"Salzburg Hbf\",\n",
    "    \"Leonding\": \"Leonding Westbahn\",\n",
    "    \"Pasching\": \"Pasching b.Linz\",\n",
    "    \"Eugendorf\": \"Eugendorf S-Bahn\",\n",
    "    \"Kirchstetten b.Neulengbach\": \"Kirchstetten\",\n",
    "    \"Wallersee\": \"Wallersee S-Bahn\",\n",
    "    \"Lambach\": \"Lambach OÖ\",\n",
    "    \"Salzburg Liefering\": \"Salzburg Hbf\",\n",
    "    \"Salzburg Kasern\": \"Salzburg Hbf\",\n",
    "    \"St.Peter-Seitenstetten\": \"St. Peter-Seitenstetten Bhf.\",\n",
    "    \"Köstendorf Weng\": \"Köstendorf Weng S-Bahn\",\n",
    "    \"Hetzmannsdorf-Wullersdorf\": \"Hetzmannsdorf-Wullersdorf Bhf.\",\n",
    "    \"Neuhaus/Gail\": \"Neuhaus an der Gail\",\n",
    "    \"Himberg b.Wien\": \"Himberg\",\n",
    "    \"Lambach OÖ OÖ\": \"Lambach OÖ\",\n",
    "    \"Linz/Donau-Pichling\": \"Linz/Donau Pichling\",\n",
    "    \"Salzburg Gnigl\": \"Salzburg Hbf\",\n",
    "    \"Elsbethen\": \"Elsbethen S-Bahn\",\n",
    "    \"Götzendorf/Leitha\": \"Götzendorf\"\n",
    "}\n",
    "\n",
    "def replace_text(text):\n",
    "    for old, new in replace_map.items():\n",
    "        text = text.replace(old, new)\n",
    "    return text\n",
    "\n",
    "df_all = df_all.with_columns(\n",
    "    pl.col(\"Arrival Station\")\n",
    "    .map_elements(replace_text, return_dtype = pl.String)\n",
    "    .alias(\"stop_name\")\n",
    ")"
   ]
  },
  {
   "cell_type": "code",
   "execution_count": 6,
   "id": "52fbfa3c-d94d-4f60-a505-54d660aad5f0",
   "metadata": {},
   "outputs": [],
   "source": [
    "df_all = df_all.join(\n",
    "    station_coords.unique(\"stop_name\"),\n",
    "    on = \"stop_name\",\n",
    "    how = \"left\"\n",
    ").drop(pl.col(\"stop_name\"))"
   ]
  },
  {
   "cell_type": "markdown",
   "id": "d9757698-571d-4ba4-affc-d93314a983ef",
   "metadata": {},
   "source": [
    "# Include Destination"
   ]
  },
  {
   "cell_type": "code",
   "execution_count": 7,
   "id": "c1dc2926-509f-4198-98ea-eb8b5e7f8b61",
   "metadata": {},
   "outputs": [],
   "source": [
    "# Get service_id and corresponding dates\n",
    "calendar_all = pl.concat(\n",
    "    [calendar_23, calendar_24, calendar_25]\n",
    ").with_columns(\n",
    "    pl.col(\"start_date\").cast(pl.Utf8).str.strptime(pl.Date, \"%Y%m%d\"),\n",
    "    pl.col(\"end_date\").cast(pl.Utf8).str.strptime(pl.Date, \"%Y%m%d\")\n",
    ")\n",
    "\n",
    "# Expand schadule on every date\n",
    "calendar_all = calendar_all.with_columns(\n",
    "    pl.date_ranges(\"start_date\", \"end_date\").alias(\"date\")\n",
    ").explode(\"date\").drop(\n",
    "    [\"start_date\", \"end_date\"]\n",
    ").with_columns(\n",
    "    pl.col(\"date\").dt.weekday().alias(\"weekday\")\n",
    ")\n",
    "\n",
    "calendar_all = calendar_all.with_columns(\n",
    "    pl.concat_arr([\n",
    "        pl.col(\"monday\"), pl.col(\"tuesday\"), pl.col(\"wednesday\"),\n",
    "        pl.col(\"thursday\"), pl.col(\"friday\"), pl.col(\"saturday\"),\n",
    "        pl.col(\"sunday\")\n",
    "    ]).alias(\"days\")\n",
    ")\n",
    "\n",
    "# Keep only the dates, that are in the schedule\n",
    "calendar_all = calendar_all.with_columns(\n",
    "    pl.col(\"days\").arr.get(pl.col(\"weekday\") - 1).alias(\"get\")\n",
    ").filter(pl.col(\"get\") == 1).drop([\"monday\", \"tuesday\",\t\"wednesday\", \"thursday\", \"friday\", \"saturday\", \"sunday\", \"weekday\", \"days\", \"get\"])"
   ]
  },
  {
   "cell_type": "code",
   "execution_count": 8,
   "id": "f46ec46b-b3fb-47dd-99ab-cb031388dbff",
   "metadata": {},
   "outputs": [
    {
     "data": {
      "text/html": [
       "<div><style>\n",
       ".dataframe > thead > tr,\n",
       ".dataframe > tbody > tr {\n",
       "  text-align: right;\n",
       "  white-space: pre-wrap;\n",
       "}\n",
       "</style>\n",
       "<small>shape: (188_674, 2)</small><table border=\"1\" class=\"dataframe\"><thead><tr><th>service_id</th><th>date</th></tr><tr><td>str</td><td>date</td></tr></thead><tbody><tr><td>&quot;TA+00x20&quot;</td><td>2025-12-02</td></tr><tr><td>&quot;TA+add40&quot;</td><td>2023-11-06</td></tr><tr><td>&quot;TA+0sb20&quot;</td><td>2024-10-12</td></tr><tr><td>&quot;TA+ma430&quot;</td><td>2024-12-08</td></tr><tr><td>&quot;TA+vs900&quot;</td><td>2024-03-31</td></tr><tr><td>&hellip;</td><td>&hellip;</td></tr><tr><td>&quot;TA+juw20&quot;</td><td>2024-12-08</td></tr><tr><td>&quot;TA+5c630&quot;</td><td>2024-09-16</td></tr><tr><td>&quot;TA+f3730&quot;</td><td>2024-11-04</td></tr><tr><td>&quot;TA+iry20&quot;</td><td>2025-03-16</td></tr><tr><td>&quot;TA+74w20&quot;</td><td>2024-12-11</td></tr></tbody></table></div>"
      ],
      "text/plain": [
       "shape: (188_674, 2)\n",
       "┌────────────┬────────────┐\n",
       "│ service_id ┆ date       │\n",
       "│ ---        ┆ ---        │\n",
       "│ str        ┆ date       │\n",
       "╞════════════╪════════════╡\n",
       "│ TA+00x20   ┆ 2025-12-02 │\n",
       "│ TA+add40   ┆ 2023-11-06 │\n",
       "│ TA+0sb20   ┆ 2024-10-12 │\n",
       "│ TA+ma430   ┆ 2024-12-08 │\n",
       "│ TA+vs900   ┆ 2024-03-31 │\n",
       "│ …          ┆ …          │\n",
       "│ TA+juw20   ┆ 2024-12-08 │\n",
       "│ TA+5c630   ┆ 2024-09-16 │\n",
       "│ TA+f3730   ┆ 2024-11-04 │\n",
       "│ TA+iry20   ┆ 2025-03-16 │\n",
       "│ TA+74w20   ┆ 2024-12-11 │\n",
       "└────────────┴────────────┘"
      ]
     },
     "execution_count": 8,
     "metadata": {},
     "output_type": "execute_result"
    }
   ],
   "source": [
    "# In- and Exclude special days \n",
    "calendar_dates_all = pl.concat([calendar_dates_23, calendar_dates_24, calendar_dates_25]).with_columns(\n",
    "    pl.col(\"date\").cast(pl.Utf8).str.strptime(pl.Date, \"%Y%m%d\")\n",
    ")\n",
    "\n",
    "added = calendar_dates_all.filter(pl.col(\"exception_type\") == 1).select([\"service_id\", \"date\"])\n",
    "removed = calendar_dates_all.filter(pl.col(\"exception_type\") == 2).select([\"service_id\", \"date\"])\n",
    "\n",
    "final_calendar = calendar_all.join(removed, on=[\"service_id\", \"date\"], how = \"anti\")\n",
    "final_calendar = final_calendar.vstack(added).unique()\n",
    "final_calendar"
   ]
  },
  {
   "cell_type": "markdown",
   "id": "2951de09-fc89-41fa-b40f-c91df93273c3",
   "metadata": {},
   "source": [
    "### Join Data sets"
   ]
  },
  {
   "cell_type": "code",
   "execution_count": 10,
   "id": "b88b3025-b596-4bf2-bd24-a5c2ef982c75",
   "metadata": {},
   "outputs": [],
   "source": [
    "# Combingin trip with shape with dates\n",
    "trips = pl.concat([trips_23, trips_24])\n",
    "trips_with_date = trips.select(\n",
    "    [\"service_id\", \"trip_headsign\",  \"trip_short_name\"]\n",
    ").join(final_calendar, on = \"service_id\", how = \"left\")"
   ]
  },
  {
   "cell_type": "code",
   "execution_count": 12,
   "id": "a21a1888-cbee-4cce-aae1-62c603e78f42",
   "metadata": {},
   "outputs": [],
   "source": [
    "df_gtfs = df_all.join(\n",
    "    trips_with_date,\n",
    "    left_on = [\"Train Nr.\", \"Date\"],\n",
    "    right_on = [\"trip_short_name\", \"date\"],\n",
    "    how = \"left\"\n",
    ").unique()"
   ]
  },
  {
   "cell_type": "code",
   "execution_count": 13,
   "id": "2c318db4-08d8-47cf-bc57-41af0561a861",
   "metadata": {},
   "outputs": [
    {
     "data": {
      "text/html": [
       "<div><style>\n",
       ".dataframe > thead > tr,\n",
       ".dataframe > tbody > tr {\n",
       "  text-align: right;\n",
       "  white-space: pre-wrap;\n",
       "}\n",
       "</style>\n",
       "<small>shape: (2, 21)</small><table border=\"1\" class=\"dataframe\"><thead><tr><th>Searched Station</th><th>Date</th><th>Train Nr.</th><th>Train Type</th><th>Departing Station</th><th>Scheduled Departure Time</th><th>Arrival Station</th><th>Scheduled Arrival Time</th><th>Actual Arrival Time</th><th>Delay</th><th>Cancellation</th><th>On Time</th><th>Departure Hour</th><th>Arrival Hour</th><th>Day of Week</th><th>Month</th><th>Year</th><th>Station Latitude</th><th>Station Longitude</th><th>service_id</th><th>trip_headsign</th></tr><tr><td>str</td><td>date</td><td>str</td><td>str</td><td>str</td><td>datetime[μs]</td><td>str</td><td>datetime[μs]</td><td>datetime[μs]</td><td>i64</td><td>i32</td><td>i32</td><td>i8</td><td>i8</td><td>i8</td><td>i8</td><td>i32</td><td>f64</td><td>f64</td><td>str</td><td>str</td></tr></thead><tbody><tr><td>&quot;Mallnitz_Obervellach&quot;</td><td>2024-09-12</td><td>&quot;EN 480&quot;</td><td>&quot;EN&quot;</td><td>&quot;Rijeka&quot;</td><td>2024-09-11 18:57:00</td><td>&quot;Mallnitz-Obervellach&quot;</td><td>2024-09-12 01:00:00</td><td>null</td><td>null</td><td>1</td><td>0</td><td>18</td><td>1</td><td>4</td><td>9</td><td>2024</td><td>46.98109</td><td>13.176282</td><td>&quot;TA+9s030&quot;</td><td>&quot;Stuttgart Hauptbahnhof&quot;</td></tr><tr><td>&quot;Wien_Hbf&quot;</td><td>2024-05-11</td><td>&quot;IC 1031&quot;</td><td>&quot;IC&quot;</td><td>&quot;Praha hl.n.&quot;</td><td>2024-05-11 06:15:00</td><td>&quot;Wien Hbf&quot;</td><td>2024-05-11 10:21:00</td><td>2024-05-11 10:25:00</td><td>4</td><td>0</td><td>1</td><td>6</td><td>10</td><td>6</td><td>5</td><td>2024</td><td>48.185332</td><td>16.37865</td><td>null</td><td>null</td></tr></tbody></table></div>"
      ],
      "text/plain": [
       "shape: (2, 21)\n",
       "┌────────────┬────────────┬────────────┬───────┬───┬───────────┬───────────┬───────────┬───────────┐\n",
       "│ Searched   ┆ Date       ┆ Train Nr.  ┆ Train ┆ … ┆ Station   ┆ Station   ┆ service_i ┆ trip_head │\n",
       "│ Station    ┆ ---        ┆ ---        ┆ Type  ┆   ┆ Latitude  ┆ Longitude ┆ d         ┆ sign      │\n",
       "│ ---        ┆ date       ┆ str        ┆ ---   ┆   ┆ ---       ┆ ---       ┆ ---       ┆ ---       │\n",
       "│ str        ┆            ┆            ┆ str   ┆   ┆ f64       ┆ f64       ┆ str       ┆ str       │\n",
       "╞════════════╪════════════╪════════════╪═══════╪═══╪═══════════╪═══════════╪═══════════╪═══════════╡\n",
       "│ Mallnitz_O ┆ 2024-09-12 ┆ EN 480     ┆ EN    ┆ … ┆ 46.98109  ┆ 13.176282 ┆ TA+9s030  ┆ Stuttgart │\n",
       "│ bervellach ┆            ┆            ┆       ┆   ┆           ┆           ┆           ┆ Hauptbahn │\n",
       "│            ┆            ┆            ┆       ┆   ┆           ┆           ┆           ┆ hof       │\n",
       "│ Wien_Hbf   ┆ 2024-05-11 ┆ IC 1031    ┆ IC    ┆ … ┆ 48.185332 ┆ 16.37865  ┆ null      ┆ null      │\n",
       "└────────────┴────────────┴────────────┴───────┴───┴───────────┴───────────┴───────────┴───────────┘"
      ]
     },
     "execution_count": 13,
     "metadata": {},
     "output_type": "execute_result"
    }
   ],
   "source": [
    "df_gtfs.head(2)"
   ]
  },
  {
   "cell_type": "code",
   "execution_count": 14,
   "id": "a622b948-0448-4910-ac56-a67bd4310e1c",
   "metadata": {},
   "outputs": [],
   "source": [
    "df_all.write_parquet(\"./Data/Train/Train_2years.parquet\")\n",
    "df_gtfs.write_parquet(\"./Data/Train/Train_2years_headsign.parquet\")"
   ]
  },
  {
   "cell_type": "markdown",
   "id": "1e0830cf-508f-4300-87fb-815472a1ea49",
   "metadata": {},
   "source": [
    "# Work in Progress: Shape and distance travelled"
   ]
  },
  {
   "cell_type": "code",
   "execution_count": 9,
   "id": "795a3d6c-014f-420d-8f39-87b74144a4de",
   "metadata": {},
   "outputs": [],
   "source": [
    "# Getting Shape information -> too much data crashes server\n",
    "#shapes = pl.concat([shapes_23, shapes_24])\n",
    "#shapes = (\n",
    "#    shapes.sort(\"shape_pt_sequence\")\n",
    "#    .group_by(\"shape_id\")\n",
    "#    .agg([\n",
    "#        pl.struct(\n",
    "#            [\n",
    "#                pl.col(\"shape_pt_lat\").alias(\"lat\"),\n",
    "#                pl.col(\"shape_pt_lon\").alias(\"lon\")\n",
    "#            ]\n",
    "#        ).alias(\"Shape Coordinates\"),\n",
    "#        pl.concat_list(pl.col(\"shape_dist_traveled\")).alias(\"Distance covered\")\n",
    "#    ])\n",
    "#)"
   ]
  },
  {
   "cell_type": "code",
   "execution_count": 11,
   "id": "c3c27542-c9f8-49ec-a483-a6009ab6aec5",
   "metadata": {},
   "outputs": [],
   "source": [
    "# Combining trips with shape\n",
    "#trips_with_all = trips_with_calendar.join(shapes, on = \"shape_id\", how = \"left\")\n",
    "#trips_with_all"
   ]
  }
 ],
 "metadata": {
  "kernelspec": {
   "display_name": "Python 3 (ipykernel)",
   "language": "python",
   "name": "python3"
  },
  "language_info": {
   "codemirror_mode": {
    "name": "ipython",
    "version": 3
   },
   "file_extension": ".py",
   "mimetype": "text/x-python",
   "name": "python",
   "nbconvert_exporter": "python",
   "pygments_lexer": "ipython3",
   "version": "3.12.9"
  }
 },
 "nbformat": 4,
 "nbformat_minor": 5
}
