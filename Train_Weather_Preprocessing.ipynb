{
 "cells": [
  {
   "cell_type": "code",
   "execution_count": 1,
   "id": "5d2a40f9-32aa-4803-9e8f-341b7f70774e",
   "metadata": {},
   "outputs": [],
   "source": [
    "# Install and importing neccessary libraries\n",
    "try:\n",
    "    import polars as pl\n",
    "except ImportError:\n",
    "    !pip install polars\n",
    "    import polars as pl\n",
    "try:\n",
    "    import geopandas as gpd\n",
    "except ImportError:\n",
    "    !pip install geopandas\n",
    "    import geopandas as gpd\n",
    "try:\n",
    "    import netCDF4\n",
    "except ImportError:\n",
    "    !pip install netCDF4\n",
    "    import netCDF4\n",
    "\n",
    "import numpy as np\n",
    "import pandas as pd\n",
    "import datetime\n",
    "import pickle"
   ]
  },
  {
   "cell_type": "code",
   "execution_count": 2,
   "id": "1ebef33d-aa1c-4547-93a0-ecb34ccc3f60",
   "metadata": {},
   "outputs": [],
   "source": [
    "# Loading train data\n",
    "df_all = pl.read_parquet(\"./Data/Train/Train_2years.parquet\")\n",
    "\n",
    "# Fernverkehrszüge: https://www.oebb.at/de/reiseplanung-services/im-zug/unsere-zuege\n",
    "trains = [\"RJ\", \"RJX\", \"NJ\", \"IC\", \"ICE\", \"EC\"]#, \"D\", \"EN\", \"WB\"]\n",
    "\n",
    "df_fern = df_all.filter(\n",
    "    pl.col(\"Train Type\").is_in(trains)\n",
    ")"
   ]
  },
  {
   "cell_type": "markdown",
   "id": "488cfe45-d25f-495f-889d-7410ae68893d",
   "metadata": {
    "jp-MarkdownHeadingCollapsed": true
   },
   "source": [
    "### Include Areacode and State"
   ]
  },
  {
   "cell_type": "markdown",
   "id": "c204d587-b813-427f-b12d-312026ed053c",
   "metadata": {},
   "source": [
    "Next Cell provided by Hannah Schuster"
   ]
  },
  {
   "cell_type": "code",
   "execution_count": 3,
   "id": "dfa1dc8f-415f-4722-bca0-b4d61cfc9c46",
   "metadata": {},
   "outputs": [],
   "source": [
    "Regions = gpd.read_file(\"./Data/Weather/STATISTIK_AUSTRIA_GEM_20230101.shp\", encoding=\"utf-8\")\n",
    "Regions.columns = [\"id\",\"name\", \"geometry\"]\n",
    "Regions[\"id\"] = Regions[\"id\"].astype(int)\n",
    "Regions[\"bundesländer\"] = pd.cut(Regions[\"id\"], [10000, 20000,30000, 40000, 50000, 60000, 70000, 80000, 90000, 100000], \n",
    "                                   labels = [\"Burgenland\",\"Kärnten\", \"Niederösterreich\", \"Oberösterreich\", \"Salzburg\", \"Steiermark\", \"Tirol\", \"Vorarlberg\", \"Wien\"])\n",
    "Regions[\"bundesländer\"] = Regions[\"bundesländer\"].astype(str)\n",
    "Regions[\"id\"] = Regions[\"id\"].astype(str)\n",
    "Regions.rename(columns = {\"id\":\"REGCODE\", \"bundesländer\":\"BL\"}, inplace = True)\n",
    "Regions[\"REGCODE\"] = Regions.REGCODE.apply(lambda x: \"AT\" + x)\n",
    "Regions = Regions.drop(columns = [\"geometry\"])"
   ]
  },
  {
   "cell_type": "code",
   "execution_count": 4,
   "id": "4bafe107-ad51-4562-aa4f-be9e0fc44490",
   "metadata": {},
   "outputs": [],
   "source": [
    "pattern = r\"\\b(\" + \"|\".join(Regions[\"name\"]) + r\")\\b\"\n",
    "regions_pl = pl.from_pandas(Regions)"
   ]
  },
  {
   "cell_type": "code",
   "execution_count": 5,
   "id": "b9efb209-d8e2-4b3e-b527-608a3e89f81e",
   "metadata": {},
   "outputs": [],
   "source": [
    "replace_map = {\n",
    "    \"St.Veit/Glan\": \"St. Veit an der Glan\", \n",
    "    \"Wien Meidling\": \"Wien-Meidling\", \n",
    "    \"Wien Hbf\": \"Wien-Favoriten\", \n",
    "    \"Wien Praterstern\": \"Wien-Leopoldstadt\", \n",
    "    \"Wien Westbahnhof\": \"Wien-Rudolfsheim-Fünfhaus\", \n",
    "    \"Wien Aspern Nord\": \"Wien-Donaustadt\", \n",
    "    \"Wien Heiligenstadt\": \"Wien-Döbling\", \n",
    "    \"Wien Atzgersdorf\": \"Wien-Liesing\", \n",
    "    \"Wien Simmering\": \"Wien-Simmering\", \n",
    "    \"Wien Traisengasse\": \"Wien-Brigittenau\", \n",
    "    \"Wien Spittelau\": \"Wien-Alsergrund\",\n",
    "    \"Wien Mitte-Landstraße\": \"Wien-Landstraße\",\n",
    "    \"Wien Hütteldorf\": \"Wien-Penzing\", \n",
    "    \"Wien Matzleinsdorfer Platz\": \"Wien-Margareten\",\n",
    "    \"Wien Matzleinsdorfer Platz (ÖBB)\": \"Wien-Margareten\",\n",
    "    \"Wien Mitte\": \"Wien-Landstraße\",\n",
    "    \"Wien Hadersdorf\": \"Wien-Penzing\",\n",
    "    \"Wien Quartier Belvedere\": \"Wien-Landstraße\",\n",
    "    \"Wien Stadlau\": \"Wien-Donaustadt\",\n",
    "    \"Wien Hetzendorf\": \"Wien-Meidling\",\n",
    "    \"Wien Penzing\": \"Wien-Penzing\",\n",
    "    \"Wien Weidlingau\": \"Wien-Penzing\",\n",
    "    \"Wien Süßenbrunn\": \"Wien-Donaustadt\", \n",
    "    \"St.Pölten\": \"St. Pölten\",\n",
    "    \"Flughafen Wien\": \"Schwechat\",\n",
    "    \"Klagenfurt Hbf\": \"Klagenfurt am Wörthersee\",\n",
    "    \"Bruck/Mur\": \"Bruck an der Mur\",\n",
    "    \"Neuhofen/Krems\": \"Neuhofen an der Krems\",\n",
    "    \"Stainach-Irdning\": \"Stainach-Pürgg\", \n",
    "    \"Tullnerfeld\": \"Judenau-Baumgarten\",\n",
    "    \"Ötztal\": \"Haiming\",\n",
    "    \"St. Johann im Pongau\": \"Sankt Johann im Pongau\",\n",
    "    \"Spittal-Millstättersee\": \"Spittal an der Drau\", \n",
    "    \"Unzmarkt\": \"Unzmarkt-Frauenburg\",\n",
    "    \"Kirchdorf/Krems\": \"Kirchdorf an der Krems\",\n",
    "    \"Langen am Arlberg\": \"Klösterle\",\n",
    "    \"Krumpendorf/Wörthersee\": \"Krumpendorf am Wörthersee\",\n",
    "    \"St.Michael in Obersteiermark\": \"Sankt Michael in Obersteiermark\",\n",
    "    \"St. Michael\": \"Sankt Michael in Obersteiermark\",\n",
    "    \"Spielfeld-Straß\": \"Straß in Steiermark\",\n",
    "    \"Summerau\": \"Rainbach im Mühlkreis\",\n",
    "    \"Studenzen-Fladnitz\": \"Kirchberg an der Raab\",\n",
    "    \"Fürnitz\": \"Finkenstein am Faaker See\",\n",
    "    \"Ebensee\": \"Ebensee am Traunsee\",\n",
    "    \"Saalfelden\": \"Saalfelden am Steinernen Meer\",\n",
    "    \"Bad Goisern\": \"Bad Goisern am Hallstättersee\",\n",
    "    \"Bruck/Glocknerstraße-Fusch\": \"Bruck an der Großglocknerstraße\",\n",
    "    \"Pruggern\": \"Michaelerberg-Pruggern\",\n",
    "    \"Deutsch Wagram\": \"Deutsch-Wagram\",\n",
    "    \"Helmahof\": \"Deutsch-Wagram\",\n",
    "    \"Raaba\": \"Raaba-Grambach\",\n",
    "    \"Pottschach\": \"Buchbach\",\n",
    "    \"Schlöglmühl\": \"Enzenreith\",\n",
    "    \"Silberwald\": \"Strasshof an der Nordbahn\",\n",
    "    \"Wartberg/Krems\": \"Wartberg an der Krems\",\n",
    "    \"Pusarnitz\": \"Lurnfeld\",\n",
    "    \"Kolbnitz\": \"Reißeck\",\n",
    "    \"Götzendorf/Leitha\": \"Götzendorf an der Leitha\", \n",
    "    \"Kastenreith\": \"Weyer\",\n",
    "    \"Platt\": \"Zellerndorf\",\n",
    "    \"Bruck/Leitha\": \"Bruck an der Leitha\",\n",
    "    \"Mixnitz Bärenschützklamm\": \"Pernegg an der Mur\",\n",
    "    \"Nöstlbach-St.Marien\": \"St. Marien\",\n",
    "    \"Breitenschützing\": \"Schlatt\",\n",
    "    \"Stübing\": \"Peggau\",\n",
    "    \"Furth-Göttweig\": \"Furth bei Göttweig\",\n",
    "    \"Furth-Palt\": \"Furth bei Göttweig\",\n",
    "    \"Redl-Zipf\": \"Pfaffing\",\n",
    "    \"Judendorf-Straßengel\": \"Gratwein-Straßengel\",\n",
    "    \"Rohrendorf b.Krems\": \"Rohrendorf bei Krems\",\n",
    "    \"Mariahof-St.Lambrecht\": \"Sankt Lambrecht\",\n",
    "    \"Nettingsdorf\": \"Ansfelden\",\n",
    "    \"Mauer-Öhling\": \"Oed-Oehling\",\n",
    "    \"Steyrling\": \"Klaus an der Pyhrnbahn\",\n",
    "    \"Rottenegg\": \"St. Gotthard im Mühlkreis\",\n",
    "    \"Untertullnerbach\": \"Tullnerbach\",\n",
    "    \"Zellerndorf\": \"Pernersdorf\",\n",
    "    \"Wallersee\": \"Seekirchen am Wallersee\",\n",
    "    \"LinzHbf\": \"Linz Hbf\",\n",
    "    \"Kainisch\": \"Bad Mitterndorf\",\n",
    "    \"Tauplitz\": \"Bad Mitterndorf\",\n",
    "    \"Tauplitz Schiflugschanze Kulm\": \"Bad Mitterndorf\",\n",
    "    \"Bad Mitterndorf Heilbrunn\": \"Bad Mitterndorf\",\n",
    "    \"Niederöblarn\": \"Öblarn\",\n",
    "    \"Tenneck\": \"Werfen\",\n",
    "    \"Bruck-Fusch\": \"Bruck an der Großglocknerstraße\",\n",
    "    \"Böckstein\": \"Bad Gastein\",\n",
    "    \"Kleinreifling\": \"Weyer\",\n",
    "    \"Mitterberghütten\": \"Bischofshofen\",\n",
    "    \"Ebensee/Traunsee\": \"Ebensee am Traunsee\",\n",
    "    \"Faak am See\": \"Finkenstein am Faaker See\"\n",
    "}\n",
    "\n",
    "def replace_text(text):\n",
    "    for old, new in replace_map.items():\n",
    "        text = text.replace(old, new)\n",
    "    return text"
   ]
  },
  {
   "cell_type": "code",
   "execution_count": 6,
   "id": "1452381f-c894-4cf9-a6b1-e894f24cf53d",
   "metadata": {},
   "outputs": [],
   "source": [
    "# Match Arrival Station with Region names\n",
    "df_fern = df_fern.with_columns(\n",
    "    pl.col(\"Arrival Station\")\n",
    "    .map_elements(replace_text, return_dtype = pl.String)\n",
    "    .str.extract(pattern)\n",
    "    .alias(\"Matched Region\")\n",
    ")"
   ]
  },
  {
   "cell_type": "code",
   "execution_count": 7,
   "id": "b93b0ef8-1ed5-4dcd-935e-532a5701bde3",
   "metadata": {},
   "outputs": [
    {
     "data": {
      "text/html": [
       "<div><style>\n",
       ".dataframe > thead > tr,\n",
       ".dataframe > tbody > tr {\n",
       "  text-align: right;\n",
       "  white-space: pre-wrap;\n",
       "}\n",
       "</style>\n",
       "<small>shape: (1_983_248, 22)</small><table border=\"1\" class=\"dataframe\"><thead><tr><th>Searched Station</th><th>Date</th><th>Train Nr.</th><th>Train Type</th><th>Departing Station</th><th>Scheduled Departure Time</th><th>Arrival Station</th><th>Scheduled Arrival Time</th><th>Actual Arrival Time</th><th>Delay</th><th>Cancellation</th><th>On Time</th><th>Departure Hour</th><th>Arrival Hour</th><th>Day of Week</th><th>Month</th><th>Year</th><th>Station Latitude</th><th>Station Longitude</th><th>Matched Region</th><th>REGCODE</th><th>BL</th></tr><tr><td>str</td><td>date</td><td>str</td><td>str</td><td>str</td><td>datetime[μs]</td><td>str</td><td>datetime[μs]</td><td>datetime[μs]</td><td>i64</td><td>i32</td><td>i32</td><td>i8</td><td>i8</td><td>i8</td><td>i8</td><td>i32</td><td>f64</td><td>f64</td><td>str</td><td>str</td><td>str</td></tr></thead><tbody><tr><td>&quot;Landeck_Zams&quot;</td><td>2024-09-30</td><td>&quot;RJX 869&quot;</td><td>&quot;RJX&quot;</td><td>&quot;Bregenz&quot;</td><td>2024-09-30 12:40:00</td><td>&quot;Landeck-Zams&quot;</td><td>2024-09-30 14:25:00</td><td>2024-09-30 14:27:00</td><td>2</td><td>0</td><td>1</td><td>12</td><td>14</td><td>1</td><td>9</td><td>2024</td><td>47.148287</td><td>10.578534</td><td>&quot;Landeck&quot;</td><td>&quot;AT70614&quot;</td><td>&quot;Tirol&quot;</td></tr><tr><td>&quot;Wien_Hbf&quot;</td><td>2025-01-08</td><td>&quot;RJ 130&quot;</td><td>&quot;RJ&quot;</td><td>&quot;Venezia Santa Lucia&quot;</td><td>2025-01-08 15:52:00</td><td>&quot;Wien Hbf&quot;</td><td>2025-01-08 23:36:00</td><td>2025-01-09 00:10:00</td><td>34</td><td>0</td><td>0</td><td>15</td><td>23</td><td>3</td><td>1</td><td>2025</td><td>48.185332</td><td>16.37865</td><td>&quot;Wien-Favoriten&quot;</td><td>&quot;AT91001&quot;</td><td>&quot;Wien&quot;</td></tr><tr><td>&quot;Tullnerfeld&quot;</td><td>2024-01-20</td><td>&quot;NJ 446&quot;</td><td>&quot;NJ&quot;</td><td>&quot;Wien Hbf (Autoreisezuganlage)&quot;</td><td>2024-01-20 22:44:00</td><td>&quot;Tullnerfeld&quot;</td><td>2024-01-20 23:19:00</td><td>2024-01-20 23:20:00</td><td>1</td><td>0</td><td>1</td><td>22</td><td>23</td><td>6</td><td>1</td><td>2024</td><td>48.295004</td><td>15.996219</td><td>&quot;Judenau-Baumgarten&quot;</td><td>&quot;AT32112&quot;</td><td>&quot;Niederösterreich&quot;</td></tr><tr><td>&quot;Schärding&quot;</td><td>2024-02-28</td><td>&quot;IC 296&quot;</td><td>&quot;IC&quot;</td><td>&quot;Fürth Hbf&quot;</td><td>2024-02-28 00:33:00</td><td>&quot;Schärding&quot;</td><td>2024-02-28 21:25:00</td><td>2024-02-28 21:25:00</td><td>0</td><td>0</td><td>1</td><td>0</td><td>21</td><td>3</td><td>2</td><td>2024</td><td>48.46422</td><td>13.442111</td><td>&quot;Schärding&quot;</td><td>&quot;AT41422&quot;</td><td>&quot;Oberösterreich&quot;</td></tr><tr><td>&quot;Innsbruck_Hbf&quot;</td><td>2024-09-13</td><td>&quot;RJX 169&quot;</td><td>&quot;RJX&quot;</td><td>&quot;Zürich HB&quot;</td><td>2024-09-13 14:40:00</td><td>&quot;Innsbruck Hbf&quot;</td><td>2024-09-13 18:11:00</td><td>2024-09-13 18:12:00</td><td>1</td><td>0</td><td>1</td><td>14</td><td>18</td><td>5</td><td>9</td><td>2024</td><td>47.263198</td><td>11.400825</td><td>&quot;Innsbruck&quot;</td><td>&quot;AT70101&quot;</td><td>&quot;Tirol&quot;</td></tr><tr><td>&hellip;</td><td>&hellip;</td><td>&hellip;</td><td>&hellip;</td><td>&hellip;</td><td>&hellip;</td><td>&hellip;</td><td>&hellip;</td><td>&hellip;</td><td>&hellip;</td><td>&hellip;</td><td>&hellip;</td><td>&hellip;</td><td>&hellip;</td><td>&hellip;</td><td>&hellip;</td><td>&hellip;</td><td>&hellip;</td><td>&hellip;</td><td>&hellip;</td><td>&hellip;</td><td>&hellip;</td></tr><tr><td>&quot;Kuchl&quot;</td><td>2025-01-02</td><td>&quot;IC 794&quot;</td><td>&quot;IC&quot;</td><td>&quot;Salzburg Hbf&quot;</td><td>2025-01-02 21:12:00</td><td>&quot;Kuchl&quot;</td><td>2025-01-02 21:33:00</td><td>2025-01-02 21:38:00</td><td>5</td><td>0</td><td>1</td><td>21</td><td>21</td><td>4</td><td>1</td><td>2025</td><td>47.624937</td><td>13.142155</td><td>&quot;Kuchl&quot;</td><td>&quot;AT50207&quot;</td><td>&quot;Salzburg&quot;</td></tr><tr><td>&quot;Wien_Meidling&quot;</td><td>2023-06-26</td><td>&quot;NJ 490&quot;</td><td>&quot;NJ&quot;</td><td>&quot;Wien Hbf&quot;</td><td>2023-06-26 19:35:00</td><td>&quot;Wien Meidling&quot;</td><td>2023-06-26 19:40:00</td><td>2023-06-26 19:41:00</td><td>1</td><td>0</td><td>1</td><td>19</td><td>19</td><td>1</td><td>6</td><td>2023</td><td>48.174652</td><td>16.333905</td><td>&quot;Wien-Meidling&quot;</td><td>&quot;AT91201&quot;</td><td>&quot;Wien&quot;</td></tr><tr><td>&quot;Wels_Hbf&quot;</td><td>2023-05-25</td><td>&quot;RJX 42&quot;</td><td>&quot;RJX&quot;</td><td>&quot;Mosonmagyarovar&quot;</td><td>2023-05-25 19:20:00</td><td>&quot;Wels Hbf&quot;</td><td>2023-05-25 22:00:00</td><td>2023-05-25 22:00:00</td><td>0</td><td>0</td><td>1</td><td>19</td><td>22</td><td>4</td><td>5</td><td>2023</td><td>48.165701</td><td>14.026241</td><td>&quot;Wels&quot;</td><td>&quot;AT40301&quot;</td><td>&quot;Oberösterreich&quot;</td></tr><tr><td>&quot;Unzmarkt&quot;</td><td>2024-02-27</td><td>&quot;RJ 633&quot;</td><td>&quot;RJ&quot;</td><td>&quot;Wien Hbf&quot;</td><td>2024-02-27 18:24:00</td><td>&quot;Unzmarkt&quot;</td><td>2024-02-27 21:12:00</td><td>2024-02-27 21:33:00</td><td>21</td><td>0</td><td>0</td><td>18</td><td>21</td><td>2</td><td>2</td><td>2024</td><td>47.201071</td><td>14.443005</td><td>&quot;Unzmarkt-Frauenburg&quot;</td><td>&quot;AT62036&quot;</td><td>&quot;Steiermark&quot;</td></tr><tr><td>&quot;Attnang_Puchheim&quot;</td><td>2024-06-15</td><td>&quot;ICE 541&quot;</td><td>&quot;ICE&quot;</td><td>&quot;Köln Hbf&quot;</td><td>2024-06-15 04:25:00</td><td>&quot;Attnang-Puchheim&quot;</td><td>2024-06-15 05:58:00</td><td>2024-06-15 06:11:00</td><td>13</td><td>0</td><td>0</td><td>4</td><td>5</td><td>6</td><td>6</td><td>2024</td><td>48.012244</td><td>13.720598</td><td>&quot;Attnang-Puchheim&quot;</td><td>&quot;AT41703&quot;</td><td>&quot;Oberösterreich&quot;</td></tr></tbody></table></div>"
      ],
      "text/plain": [
       "shape: (1_983_248, 22)\n",
       "┌────────────┬────────────┬───────────┬───────┬───┬────────────┬────────────┬─────────┬────────────┐\n",
       "│ Searched   ┆ Date       ┆ Train Nr. ┆ Train ┆ … ┆ Station    ┆ Matched    ┆ REGCODE ┆ BL         │\n",
       "│ Station    ┆ ---        ┆ ---       ┆ Type  ┆   ┆ Longitude  ┆ Region     ┆ ---     ┆ ---        │\n",
       "│ ---        ┆ date       ┆ str       ┆ ---   ┆   ┆ ---        ┆ ---        ┆ str     ┆ str        │\n",
       "│ str        ┆            ┆           ┆ str   ┆   ┆ f64        ┆ str        ┆         ┆            │\n",
       "╞════════════╪════════════╪═══════════╪═══════╪═══╪════════════╪════════════╪═════════╪════════════╡\n",
       "│ Landeck_Za ┆ 2024-09-30 ┆ RJX 869   ┆ RJX   ┆ … ┆ 10.578534  ┆ Landeck    ┆ AT70614 ┆ Tirol      │\n",
       "│ ms         ┆            ┆           ┆       ┆   ┆            ┆            ┆         ┆            │\n",
       "│ Wien_Hbf   ┆ 2025-01-08 ┆ RJ 130    ┆ RJ    ┆ … ┆ 16.37865   ┆ Wien-Favor ┆ AT91001 ┆ Wien       │\n",
       "│            ┆            ┆           ┆       ┆   ┆            ┆ iten       ┆         ┆            │\n",
       "│ Tullnerfel ┆ 2024-01-20 ┆ NJ 446    ┆ NJ    ┆ … ┆ 15.996219  ┆ Judenau-Ba ┆ AT32112 ┆ Niederöste │\n",
       "│ d          ┆            ┆           ┆       ┆   ┆            ┆ umgarten   ┆         ┆ rreich     │\n",
       "│ Schärding  ┆ 2024-02-28 ┆ IC 296    ┆ IC    ┆ … ┆ 13.442111  ┆ Schärding  ┆ AT41422 ┆ Oberösterr │\n",
       "│            ┆            ┆           ┆       ┆   ┆            ┆            ┆         ┆ eich       │\n",
       "│ Innsbruck_ ┆ 2024-09-13 ┆ RJX 169   ┆ RJX   ┆ … ┆ 11.400825  ┆ Innsbruck  ┆ AT70101 ┆ Tirol      │\n",
       "│ Hbf        ┆            ┆           ┆       ┆   ┆            ┆            ┆         ┆            │\n",
       "│ …          ┆ …          ┆ …         ┆ …     ┆ … ┆ …          ┆ …          ┆ …       ┆ …          │\n",
       "│ Kuchl      ┆ 2025-01-02 ┆ IC 794    ┆ IC    ┆ … ┆ 13.142155  ┆ Kuchl      ┆ AT50207 ┆ Salzburg   │\n",
       "│ Wien_Meidl ┆ 2023-06-26 ┆ NJ 490    ┆ NJ    ┆ … ┆ 16.333905  ┆ Wien-Meidl ┆ AT91201 ┆ Wien       │\n",
       "│ ing        ┆            ┆           ┆       ┆   ┆            ┆ ing        ┆         ┆            │\n",
       "│ Wels_Hbf   ┆ 2023-05-25 ┆ RJX 42    ┆ RJX   ┆ … ┆ 14.026241  ┆ Wels       ┆ AT40301 ┆ Oberösterr │\n",
       "│            ┆            ┆           ┆       ┆   ┆            ┆            ┆         ┆ eich       │\n",
       "│ Unzmarkt   ┆ 2024-02-27 ┆ RJ 633    ┆ RJ    ┆ … ┆ 14.443005  ┆ Unzmarkt-F ┆ AT62036 ┆ Steiermark │\n",
       "│            ┆            ┆           ┆       ┆   ┆            ┆ rauenburg  ┆         ┆            │\n",
       "│ Attnang_Pu ┆ 2024-06-15 ┆ ICE 541   ┆ ICE   ┆ … ┆ 13.720598  ┆ Attnang-Pu ┆ AT41703 ┆ Oberösterr │\n",
       "│ chheim     ┆            ┆           ┆       ┆   ┆            ┆ chheim     ┆         ┆ eich       │\n",
       "└────────────┴────────────┴───────────┴───────┴───┴────────────┴────────────┴─────────┴────────────┘"
      ]
     },
     "execution_count": 7,
     "metadata": {},
     "output_type": "execute_result"
    }
   ],
   "source": [
    "# Include REGCODE and BL in df_fern\n",
    "df_fern = df_fern.join(\n",
    "    regions_pl.select([\"REGCODE\", \"BL\", \"name\"]),\n",
    "    left_on = \"Matched Region\",\n",
    "    right_on = \"name\",\n",
    "    how = \"left\"\n",
    ")\n",
    "df_fern"
   ]
  },
  {
   "cell_type": "code",
   "execution_count": 8,
   "id": "89f3e930-3d3f-4864-b856-eeeff67db9f8",
   "metadata": {},
   "outputs": [
    {
     "data": {
      "text/html": [
       "<div><style>\n",
       ".dataframe > thead > tr,\n",
       ".dataframe > tbody > tr {\n",
       "  text-align: right;\n",
       "  white-space: pre-wrap;\n",
       "}\n",
       "</style>\n",
       "<small>shape: (0, 22)</small><table border=\"1\" class=\"dataframe\"><thead><tr><th>Searched Station</th><th>Date</th><th>Train Nr.</th><th>Train Type</th><th>Departing Station</th><th>Scheduled Departure Time</th><th>Arrival Station</th><th>Scheduled Arrival Time</th><th>Actual Arrival Time</th><th>Delay</th><th>Cancellation</th><th>On Time</th><th>Departure Hour</th><th>Arrival Hour</th><th>Day of Week</th><th>Month</th><th>Year</th><th>Station Latitude</th><th>Station Longitude</th><th>Matched Region</th><th>REGCODE</th><th>BL</th></tr><tr><td>str</td><td>date</td><td>str</td><td>str</td><td>str</td><td>datetime[μs]</td><td>str</td><td>datetime[μs]</td><td>datetime[μs]</td><td>i64</td><td>i32</td><td>i32</td><td>i8</td><td>i8</td><td>i8</td><td>i8</td><td>i32</td><td>f64</td><td>f64</td><td>str</td><td>str</td><td>str</td></tr></thead><tbody></tbody></table></div>"
      ],
      "text/plain": [
       "shape: (0, 22)\n",
       "┌──────────┬──────┬───────────┬────────────┬───┬───────────┬────────────────┬─────────┬─────┐\n",
       "│ Searched ┆ Date ┆ Train Nr. ┆ Train Type ┆ … ┆ Station   ┆ Matched Region ┆ REGCODE ┆ BL  │\n",
       "│ Station  ┆ ---  ┆ ---       ┆ ---        ┆   ┆ Longitude ┆ ---            ┆ ---     ┆ --- │\n",
       "│ ---      ┆ date ┆ str       ┆ str        ┆   ┆ ---       ┆ str            ┆ str     ┆ str │\n",
       "│ str      ┆      ┆           ┆            ┆   ┆ f64       ┆                ┆         ┆     │\n",
       "╞══════════╪══════╪═══════════╪════════════╪═══╪═══════════╪════════════════╪═════════╪═════╡\n",
       "└──────────┴──────┴───────────┴────────────┴───┴───────────┴────────────────┴─────────┴─────┘"
      ]
     },
     "execution_count": 8,
     "metadata": {},
     "output_type": "execute_result"
    }
   ],
   "source": [
    "# Checking if ever station has a REGCODE\n",
    "df_fern.filter(pl.col(\"REGCODE\").is_null())"
   ]
  },
  {
   "cell_type": "markdown",
   "id": "68c0649b-44b6-4b39-a1f7-ad36ed6915dc",
   "metadata": {
    "jp-MarkdownHeadingCollapsed": true
   },
   "source": [
    "### Include Precipitation count"
   ]
  },
  {
   "cell_type": "markdown",
   "id": "594c077f-71b6-45b1-97ae-e08b2c84c697",
   "metadata": {},
   "source": [
    "Dictionary provided by Hannah Schuster"
   ]
  },
  {
   "cell_type": "code",
   "execution_count": 9,
   "id": "bca62b98-6735-4042-a97f-573f9f17efa9",
   "metadata": {},
   "outputs": [],
   "source": [
    "with open(\"./Data/daily_count_dict.pkl\", \"rb\") as file:\n",
    "    daily_count_dict = pickle.load(file)\n",
    "#print(daily_count_dict)"
   ]
  },
  {
   "cell_type": "code",
   "execution_count": 10,
   "id": "069974b3-09b9-4c27-ab6f-c298fb53f45f",
   "metadata": {},
   "outputs": [
    {
     "name": "stderr",
     "output_type": "stream",
     "text": [
      "/tmp/ipykernel_925/3691026526.py:6: UserWarning: Warning: converting a masked element to nan.\n",
      "  if float(rain) > 0.0:\n"
     ]
    }
   ],
   "source": [
    "# Converting Dictionary into Dataframe\n",
    "data_rain = []\n",
    "for regcode, rain_dict in daily_count_dict.items():\n",
    "    for dt, rain in rain_dict.items():\n",
    "        date = dt.strftime(\"%Y-%m-%d\")\n",
    "        if float(rain) > 0.0:\n",
    "            rain_value = float(rain)\n",
    "        else:\n",
    "            rain_value = 0.0\n",
    "        data_rain.append({\n",
    "            \"REGCODE\": regcode,\n",
    "            \"Date\": date,\n",
    "            \"Rain\": rain_value\n",
    "        })\n",
    "\n",
    "df_rain = pl.DataFrame(data_rain)\n",
    "df_rain = df_rain.with_columns(\n",
    "    pl.col(\"Date\")\n",
    "    .str.strptime(pl.Date, \"%Y-%m-%d\")\n",
    ")"
   ]
  },
  {
   "cell_type": "code",
   "execution_count": 11,
   "id": "58154dcb-8513-4600-bdbb-2e7d338b82f1",
   "metadata": {},
   "outputs": [
    {
     "data": {
      "text/html": [
       "<div><style>\n",
       ".dataframe > thead > tr,\n",
       ".dataframe > tbody > tr {\n",
       "  text-align: right;\n",
       "  white-space: pre-wrap;\n",
       "}\n",
       "</style>\n",
       "<small>shape: (1_905_874, 23)</small><table border=\"1\" class=\"dataframe\"><thead><tr><th>Searched Station</th><th>Date</th><th>Train Nr.</th><th>Train Type</th><th>Departing Station</th><th>Scheduled Departure Time</th><th>Arrival Station</th><th>Scheduled Arrival Time</th><th>Actual Arrival Time</th><th>Delay</th><th>Cancellation</th><th>On Time</th><th>Departure Hour</th><th>Arrival Hour</th><th>Day of Week</th><th>Month</th><th>Year</th><th>Station Latitude</th><th>Station Longitude</th><th>Matched Region</th><th>REGCODE</th><th>BL</th><th>Rain</th></tr><tr><td>str</td><td>date</td><td>str</td><td>str</td><td>str</td><td>datetime[μs]</td><td>str</td><td>datetime[μs]</td><td>datetime[μs]</td><td>i64</td><td>i32</td><td>i32</td><td>i8</td><td>i8</td><td>i8</td><td>i8</td><td>i32</td><td>f64</td><td>f64</td><td>str</td><td>str</td><td>str</td><td>f64</td></tr></thead><tbody><tr><td>&quot;Landeck_Zams&quot;</td><td>2024-09-30</td><td>&quot;RJX 869&quot;</td><td>&quot;RJX&quot;</td><td>&quot;Bregenz&quot;</td><td>2024-09-30 12:40:00</td><td>&quot;Landeck-Zams&quot;</td><td>2024-09-30 14:25:00</td><td>2024-09-30 14:27:00</td><td>2</td><td>0</td><td>1</td><td>12</td><td>14</td><td>1</td><td>9</td><td>2024</td><td>47.148287</td><td>10.578534</td><td>&quot;Landeck&quot;</td><td>&quot;AT70614&quot;</td><td>&quot;Tirol&quot;</td><td>0.2</td></tr><tr><td>&quot;Tullnerfeld&quot;</td><td>2024-01-20</td><td>&quot;NJ 446&quot;</td><td>&quot;NJ&quot;</td><td>&quot;Wien Hbf (Autoreisezuganlage)&quot;</td><td>2024-01-20 22:44:00</td><td>&quot;Tullnerfeld&quot;</td><td>2024-01-20 23:19:00</td><td>2024-01-20 23:20:00</td><td>1</td><td>0</td><td>1</td><td>22</td><td>23</td><td>6</td><td>1</td><td>2024</td><td>48.295004</td><td>15.996219</td><td>&quot;Judenau-Baumgarten&quot;</td><td>&quot;AT32112&quot;</td><td>&quot;Niederösterreich&quot;</td><td>0.0</td></tr><tr><td>&quot;Schärding&quot;</td><td>2024-02-28</td><td>&quot;IC 296&quot;</td><td>&quot;IC&quot;</td><td>&quot;Fürth Hbf&quot;</td><td>2024-02-28 00:33:00</td><td>&quot;Schärding&quot;</td><td>2024-02-28 21:25:00</td><td>2024-02-28 21:25:00</td><td>0</td><td>0</td><td>1</td><td>0</td><td>21</td><td>3</td><td>2</td><td>2024</td><td>48.46422</td><td>13.442111</td><td>&quot;Schärding&quot;</td><td>&quot;AT41422&quot;</td><td>&quot;Oberösterreich&quot;</td><td>0.0</td></tr><tr><td>&quot;Innsbruck_Hbf&quot;</td><td>2024-09-13</td><td>&quot;RJX 169&quot;</td><td>&quot;RJX&quot;</td><td>&quot;Zürich HB&quot;</td><td>2024-09-13 14:40:00</td><td>&quot;Innsbruck Hbf&quot;</td><td>2024-09-13 18:11:00</td><td>2024-09-13 18:12:00</td><td>1</td><td>0</td><td>1</td><td>14</td><td>18</td><td>5</td><td>9</td><td>2024</td><td>47.263198</td><td>11.400825</td><td>&quot;Innsbruck&quot;</td><td>&quot;AT70101&quot;</td><td>&quot;Tirol&quot;</td><td>67.9</td></tr><tr><td>&quot;Mürzzuschlag&quot;</td><td>2023-09-08</td><td>&quot;RJ 75&quot;</td><td>&quot;RJ&quot;</td><td>&quot;Praha hl.n.&quot;</td><td>2023-09-08 08:45:00</td><td>&quot;Mürzzuschlag&quot;</td><td>2023-09-08 14:28:00</td><td>2023-09-08 14:33:00</td><td>5</td><td>0</td><td>1</td><td>8</td><td>14</td><td>5</td><td>9</td><td>2023</td><td>47.607782</td><td>15.677731</td><td>&quot;Mürzzuschlag&quot;</td><td>&quot;AT62143&quot;</td><td>&quot;Steiermark&quot;</td><td>0.0</td></tr><tr><td>&hellip;</td><td>&hellip;</td><td>&hellip;</td><td>&hellip;</td><td>&hellip;</td><td>&hellip;</td><td>&hellip;</td><td>&hellip;</td><td>&hellip;</td><td>&hellip;</td><td>&hellip;</td><td>&hellip;</td><td>&hellip;</td><td>&hellip;</td><td>&hellip;</td><td>&hellip;</td><td>&hellip;</td><td>&hellip;</td><td>&hellip;</td><td>&hellip;</td><td>&hellip;</td><td>&hellip;</td><td>&hellip;</td></tr><tr><td>&quot;Kirchberg_in_Tirol&quot;</td><td>2023-11-01</td><td>&quot;EC 163&quot;</td><td>&quot;EC&quot;</td><td>&quot;Zürich HB&quot;</td><td>2023-11-01 08:33:00</td><td>&quot;Kirchberg in Tirol&quot;</td><td>2023-11-01 16:10:00</td><td>null</td><td>null</td><td>1</td><td>0</td><td>8</td><td>16</td><td>3</td><td>11</td><td>2023</td><td>47.448953</td><td>12.308896</td><td>&quot;Kirchberg in Tirol&quot;</td><td>&quot;AT70409&quot;</td><td>&quot;Tirol&quot;</td><td>0.0</td></tr><tr><td>&quot;Wien_Meidling&quot;</td><td>2023-06-26</td><td>&quot;NJ 490&quot;</td><td>&quot;NJ&quot;</td><td>&quot;Wien Hbf&quot;</td><td>2023-06-26 19:35:00</td><td>&quot;Wien Meidling&quot;</td><td>2023-06-26 19:40:00</td><td>2023-06-26 19:41:00</td><td>1</td><td>0</td><td>1</td><td>19</td><td>19</td><td>1</td><td>6</td><td>2023</td><td>48.174652</td><td>16.333905</td><td>&quot;Wien-Meidling&quot;</td><td>&quot;AT91201&quot;</td><td>&quot;Wien&quot;</td><td>0.4</td></tr><tr><td>&quot;Wels_Hbf&quot;</td><td>2023-05-25</td><td>&quot;RJX 42&quot;</td><td>&quot;RJX&quot;</td><td>&quot;Mosonmagyarovar&quot;</td><td>2023-05-25 19:20:00</td><td>&quot;Wels Hbf&quot;</td><td>2023-05-25 22:00:00</td><td>2023-05-25 22:00:00</td><td>0</td><td>0</td><td>1</td><td>19</td><td>22</td><td>4</td><td>5</td><td>2023</td><td>48.165701</td><td>14.026241</td><td>&quot;Wels&quot;</td><td>&quot;AT40301&quot;</td><td>&quot;Oberösterreich&quot;</td><td>0.0</td></tr><tr><td>&quot;Unzmarkt&quot;</td><td>2024-02-27</td><td>&quot;RJ 633&quot;</td><td>&quot;RJ&quot;</td><td>&quot;Wien Hbf&quot;</td><td>2024-02-27 18:24:00</td><td>&quot;Unzmarkt&quot;</td><td>2024-02-27 21:12:00</td><td>2024-02-27 21:33:00</td><td>21</td><td>0</td><td>0</td><td>18</td><td>21</td><td>2</td><td>2</td><td>2024</td><td>47.201071</td><td>14.443005</td><td>&quot;Unzmarkt-Frauenburg&quot;</td><td>&quot;AT62036&quot;</td><td>&quot;Steiermark&quot;</td><td>0.8</td></tr><tr><td>&quot;Attnang_Puchheim&quot;</td><td>2024-06-15</td><td>&quot;ICE 541&quot;</td><td>&quot;ICE&quot;</td><td>&quot;Köln Hbf&quot;</td><td>2024-06-15 04:25:00</td><td>&quot;Attnang-Puchheim&quot;</td><td>2024-06-15 05:58:00</td><td>2024-06-15 06:11:00</td><td>13</td><td>0</td><td>0</td><td>4</td><td>5</td><td>6</td><td>6</td><td>2024</td><td>48.012244</td><td>13.720598</td><td>&quot;Attnang-Puchheim&quot;</td><td>&quot;AT41703&quot;</td><td>&quot;Oberösterreich&quot;</td><td>9.0</td></tr></tbody></table></div>"
      ],
      "text/plain": [
       "shape: (1_905_874, 23)\n",
       "┌─────────────┬────────────┬───────────┬────────────┬───┬────────────┬─────────┬────────────┬──────┐\n",
       "│ Searched    ┆ Date       ┆ Train Nr. ┆ Train Type ┆ … ┆ Matched    ┆ REGCODE ┆ BL         ┆ Rain │\n",
       "│ Station     ┆ ---        ┆ ---       ┆ ---        ┆   ┆ Region     ┆ ---     ┆ ---        ┆ ---  │\n",
       "│ ---         ┆ date       ┆ str       ┆ str        ┆   ┆ ---        ┆ str     ┆ str        ┆ f64  │\n",
       "│ str         ┆            ┆           ┆            ┆   ┆ str        ┆         ┆            ┆      │\n",
       "╞═════════════╪════════════╪═══════════╪════════════╪═══╪════════════╪═════════╪════════════╪══════╡\n",
       "│ Landeck_Zam ┆ 2024-09-30 ┆ RJX 869   ┆ RJX        ┆ … ┆ Landeck    ┆ AT70614 ┆ Tirol      ┆ 0.2  │\n",
       "│ s           ┆            ┆           ┆            ┆   ┆            ┆         ┆            ┆      │\n",
       "│ Tullnerfeld ┆ 2024-01-20 ┆ NJ 446    ┆ NJ         ┆ … ┆ Judenau-Ba ┆ AT32112 ┆ Niederöste ┆ 0.0  │\n",
       "│             ┆            ┆           ┆            ┆   ┆ umgarten   ┆         ┆ rreich     ┆      │\n",
       "│ Schärding   ┆ 2024-02-28 ┆ IC 296    ┆ IC         ┆ … ┆ Schärding  ┆ AT41422 ┆ Oberösterr ┆ 0.0  │\n",
       "│             ┆            ┆           ┆            ┆   ┆            ┆         ┆ eich       ┆      │\n",
       "│ Innsbruck_H ┆ 2024-09-13 ┆ RJX 169   ┆ RJX        ┆ … ┆ Innsbruck  ┆ AT70101 ┆ Tirol      ┆ 67.9 │\n",
       "│ bf          ┆            ┆           ┆            ┆   ┆            ┆         ┆            ┆      │\n",
       "│ Mürzzuschla ┆ 2023-09-08 ┆ RJ 75     ┆ RJ         ┆ … ┆ Mürzzuschl ┆ AT62143 ┆ Steiermark ┆ 0.0  │\n",
       "│ g           ┆            ┆           ┆            ┆   ┆ ag         ┆         ┆            ┆      │\n",
       "│ …           ┆ …          ┆ …         ┆ …          ┆ … ┆ …          ┆ …       ┆ …          ┆ …    │\n",
       "│ Kirchberg_i ┆ 2023-11-01 ┆ EC 163    ┆ EC         ┆ … ┆ Kirchberg  ┆ AT70409 ┆ Tirol      ┆ 0.0  │\n",
       "│ n_Tirol     ┆            ┆           ┆            ┆   ┆ in Tirol   ┆         ┆            ┆      │\n",
       "│ Wien_Meidli ┆ 2023-06-26 ┆ NJ 490    ┆ NJ         ┆ … ┆ Wien-Meidl ┆ AT91201 ┆ Wien       ┆ 0.4  │\n",
       "│ ng          ┆            ┆           ┆            ┆   ┆ ing        ┆         ┆            ┆      │\n",
       "│ Wels_Hbf    ┆ 2023-05-25 ┆ RJX 42    ┆ RJX        ┆ … ┆ Wels       ┆ AT40301 ┆ Oberösterr ┆ 0.0  │\n",
       "│             ┆            ┆           ┆            ┆   ┆            ┆         ┆ eich       ┆      │\n",
       "│ Unzmarkt    ┆ 2024-02-27 ┆ RJ 633    ┆ RJ         ┆ … ┆ Unzmarkt-F ┆ AT62036 ┆ Steiermark ┆ 0.8  │\n",
       "│             ┆            ┆           ┆            ┆   ┆ rauenburg  ┆         ┆            ┆      │\n",
       "│ Attnang_Puc ┆ 2024-06-15 ┆ ICE 541   ┆ ICE        ┆ … ┆ Attnang-Pu ┆ AT41703 ┆ Oberösterr ┆ 9.0  │\n",
       "│ hheim       ┆            ┆           ┆            ┆   ┆ chheim     ┆         ┆ eich       ┆      │\n",
       "└─────────────┴────────────┴───────────┴────────────┴───┴────────────┴─────────┴────────────┴──────┘"
      ]
     },
     "execution_count": 11,
     "metadata": {},
     "output_type": "execute_result"
    }
   ],
   "source": [
    "# Creat one final Dataframe with every information\n",
    "df = df_fern.filter(\n",
    "    (pl.col(\"Year\") == 2023) |\n",
    "    (pl.col(\"Year\") == 2024)\n",
    ").join(\n",
    "    df_rain, \n",
    "    on = [\"REGCODE\", \"Date\"], \n",
    "    how = \"left\"\n",
    ")\n",
    "df"
   ]
  },
  {
   "cell_type": "code",
   "execution_count": 12,
   "id": "e7111a83-b55e-4fc6-8ffc-07dad95c0bb9",
   "metadata": {},
   "outputs": [],
   "source": [
    "df.write_parquet(\"./Data/Train_Rain_2years.parquet\")"
   ]
  }
 ],
 "metadata": {
  "kernelspec": {
   "display_name": "Python 3 (ipykernel)",
   "language": "python",
   "name": "python3"
  },
  "language_info": {
   "codemirror_mode": {
    "name": "ipython",
    "version": 3
   },
   "file_extension": ".py",
   "mimetype": "text/x-python",
   "name": "python",
   "nbconvert_exporter": "python",
   "pygments_lexer": "ipython3",
   "version": "3.12.9"
  }
 },
 "nbformat": 4,
 "nbformat_minor": 5
}
