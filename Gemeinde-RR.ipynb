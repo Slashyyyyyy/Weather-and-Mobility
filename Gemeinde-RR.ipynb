{
 "cells": [
  {
   "cell_type": "code",
   "execution_count": 1,
   "id": "fc2aa311-80fa-419d-ac8c-61aad40d8c03",
   "metadata": {},
   "outputs": [],
   "source": [
    "try:\n",
    "    import geopandas as gpd\n",
    "except ImportError:\n",
    "    !pip install geopandas\n",
    "    import geopandas as gpd\n",
    "try:\n",
    "    import netCDF4\n",
    "except ImportError:\n",
    "    !pip install netCDF4\n",
    "    import netCDF4\n",
    "\n",
    "import numpy as np\n",
    "import pandas as pd\n",
    "from shapely.geometry import Polygon, LineString, Point\n",
    "import timeit\n",
    "import datetime\n",
    "import pickle"
   ]
  },
  {
   "cell_type": "code",
   "execution_count": 2,
   "id": "bf3806b5-3350-4cc5-8b24-0d11ec414528",
   "metadata": {},
   "outputs": [
    {
     "data": {
      "text/html": [
       "<div>\n",
       "<style scoped>\n",
       "    .dataframe tbody tr th:only-of-type {\n",
       "        vertical-align: middle;\n",
       "    }\n",
       "\n",
       "    .dataframe tbody tr th {\n",
       "        vertical-align: top;\n",
       "    }\n",
       "\n",
       "    .dataframe thead th {\n",
       "        text-align: right;\n",
       "    }\n",
       "</style>\n",
       "<table border=\"1\" class=\"dataframe\">\n",
       "  <thead>\n",
       "    <tr style=\"text-align: right;\">\n",
       "      <th></th>\n",
       "      <th>REGCODE</th>\n",
       "      <th>name</th>\n",
       "      <th>geometry</th>\n",
       "      <th>BL</th>\n",
       "    </tr>\n",
       "  </thead>\n",
       "  <tbody>\n",
       "    <tr>\n",
       "      <th>0</th>\n",
       "      <td>AT10101</td>\n",
       "      <td>Eisenstadt</td>\n",
       "      <td>POLYGON ((640912.07 441878.1, 640860.94 441851...</td>\n",
       "      <td>Burgenland</td>\n",
       "    </tr>\n",
       "    <tr>\n",
       "      <th>1</th>\n",
       "      <td>AT10201</td>\n",
       "      <td>Rust</td>\n",
       "      <td>POLYGON ((649520.23 441322.08, 649519.5 441310...</td>\n",
       "      <td>Burgenland</td>\n",
       "    </tr>\n",
       "    <tr>\n",
       "      <th>2</th>\n",
       "      <td>AT10301</td>\n",
       "      <td>Breitenbrunn am Neusiedler See</td>\n",
       "      <td>POLYGON ((651359.33 458158.07, 651367.86 45815...</td>\n",
       "      <td>Burgenland</td>\n",
       "    </tr>\n",
       "    <tr>\n",
       "      <th>3</th>\n",
       "      <td>AT10302</td>\n",
       "      <td>Donnerskirchen</td>\n",
       "      <td>POLYGON ((657987.56 448482.03, 657929.98 44847...</td>\n",
       "      <td>Burgenland</td>\n",
       "    </tr>\n",
       "    <tr>\n",
       "      <th>4</th>\n",
       "      <td>AT10303</td>\n",
       "      <td>Großhöflein</td>\n",
       "      <td>POLYGON ((635646.04 445557.06, 635648.21 44553...</td>\n",
       "      <td>Burgenland</td>\n",
       "    </tr>\n",
       "  </tbody>\n",
       "</table>\n",
       "</div>"
      ],
      "text/plain": [
       "   REGCODE                            name  \\\n",
       "0  AT10101                      Eisenstadt   \n",
       "1  AT10201                            Rust   \n",
       "2  AT10301  Breitenbrunn am Neusiedler See   \n",
       "3  AT10302                  Donnerskirchen   \n",
       "4  AT10303                     Großhöflein   \n",
       "\n",
       "                                            geometry          BL  \n",
       "0  POLYGON ((640912.07 441878.1, 640860.94 441851...  Burgenland  \n",
       "1  POLYGON ((649520.23 441322.08, 649519.5 441310...  Burgenland  \n",
       "2  POLYGON ((651359.33 458158.07, 651367.86 45815...  Burgenland  \n",
       "3  POLYGON ((657987.56 448482.03, 657929.98 44847...  Burgenland  \n",
       "4  POLYGON ((635646.04 445557.06, 635648.21 44553...  Burgenland  "
      ]
     },
     "execution_count": 2,
     "metadata": {},
     "output_type": "execute_result"
    }
   ],
   "source": [
    "Regions = gpd.read_file(\"./Data/Weather/STATISTIK_AUSTRIA_GEM_20230101.shp\", encoding='utf-8')\n",
    "Regions.columns = ['id','name', 'geometry']\n",
    "Regions['id'] = Regions['id'].astype(int)\n",
    "Regions['bundesländer'] = pd.cut(Regions['id'], [10000, 20000,30000, 40000, 50000, 60000, 70000, 80000, 90000, 100000], \n",
    "                                   labels = ['Burgenland','Kärnten', 'Niederösterreich', 'Oberösterreich', 'Salzburg', 'Steiermark', 'Tirol', 'Vorarlberg', 'Wien'])\n",
    "Regions['bundesländer'] = Regions['bundesländer'].astype(str)\n",
    "Regions['id'] = Regions['id'].astype(str)\n",
    "Regions.rename(columns = {'id':'REGCODE', 'bundesländer':'BL'}, inplace = True)\n",
    "Regions['REGCODE'] = Regions.REGCODE.apply(lambda x: \"AT\" + x)\n",
    "Regions.head()"
   ]
  },
  {
   "cell_type": "code",
   "execution_count": 3,
   "id": "dddf7e11-26cd-421c-9cba-6db706b07296",
   "metadata": {},
   "outputs": [],
   "source": [
    "daily_rr = netCDF4.Dataset(\"./Data/Weather/SPARTACUS2-DAILY_COMBINED_2023_2024.nc\")"
   ]
  },
  {
   "cell_type": "code",
   "execution_count": 4,
   "id": "174b410c-41b8-44fd-b5e0-db2935699208",
   "metadata": {},
   "outputs": [],
   "source": [
    "# Load the dictionary from the pickle file\n",
    "with open(\"./Data/Weather/new_regcode_to_pairs.pkl\", \"rb\") as pickle_file:\n",
    "    regcode_to_pairs = pickle.load(pickle_file)\n",
    "\n",
    "time = daily_rr.variables['time'][:]\n",
    "timedf = pd.DataFrame(time)\n",
    "timedf.columns = ['timestamp']\n",
    "timedf['date'] = pd.to_datetime(timedf[\"timestamp\"].apply(lambda x:(datetime.datetime(1961, 1, 1) + datetime.timedelta(days=x)).date()))\n",
    "# Extract week number\n",
    "timedf['week_number'] = timedf['date'].dt.isocalendar().week\n",
    "# Extract the month from the 'date' column\n",
    "timedf['month'] = timedf['date'].dt.month"
   ]
  },
  {
   "cell_type": "code",
   "execution_count": 5,
   "id": "d0a7b6d3-267f-4d8b-9d67-a2224d0464bc",
   "metadata": {},
   "outputs": [],
   "source": [
    "RR = daily_rr.variables['RR'][:]"
   ]
  },
  {
   "cell_type": "code",
   "execution_count": null,
   "id": "637ae4c3-7136-463e-b8ef-41d10c5ec804",
   "metadata": {
    "tags": []
   },
   "outputs": [
    {
     "name": "stderr",
     "output_type": "stream",
     "text": [
      "/opt/conda/lib/python3.12/site-packages/numpy/lib/_function_base_impl.py:4216: UserWarning: Warning: converting a masked element to nan.\n",
      "  a = np.asanyarray(a)\n"
     ]
    }
   ],
   "source": [
    "temp_dict = {}\n",
    "for reg in Regions['REGCODE']:\n",
    "    temp_dict[reg] = {}\n",
    "    for time_idx in range(RR.shape[0]):\n",
    "        rr_list= []  # Create an empty Pandas Series        \n",
    "        for el in regcode_to_pairs[reg]:\n",
    "            rr_list.append(RR[time_idx, el[0], el[1]])                \n",
    "        temp_dict[reg][time_idx]={'max_value' : max(rr_list), 'percentile_95': np.percentile(rr_list, 95)}"
   ]
  },
  {
   "cell_type": "code",
   "execution_count": null,
   "id": "0d8d90c9-a880-4faa-b717-00ebf2bb7167",
   "metadata": {
    "scrolled": true,
    "tags": []
   },
   "outputs": [],
   "source": [
    "daily_count_dict = {}\n",
    "\n",
    "for reg in Regions['REGCODE']:\n",
    "    daily_count_dict[reg] = {}\n",
    "    # Iterate through the data_dict and count days\n",
    "    for key, values in temp_dict[reg].items():\n",
    "        date = timedf.loc[key, 'date']\n",
    "        daily_count_dict[reg][date] = values['max_value']"
   ]
  },
  {
   "cell_type": "code",
   "execution_count": null,
   "id": "e26265aa-01be-446b-83d7-448bc6e9757b",
   "metadata": {},
   "outputs": [],
   "source": [
    "with open(\"./Data/daily_count_dict.pkl\", \"wb\") as file:\n",
    "    pickle.dump(daily_count_dict, file)"
   ]
  },
  {
   "cell_type": "code",
   "execution_count": null,
   "id": "889c3bc1-c2fa-44c0-8725-6a56ef09393d",
   "metadata": {
    "scrolled": true,
    "tags": []
   },
   "outputs": [],
   "source": [
    "daily_count_dict[\"AT62209\"]"
   ]
  },
  {
   "cell_type": "code",
   "execution_count": null,
   "id": "5c9d320c-1506-4bb2-8283-d0f77526440e",
   "metadata": {
    "scrolled": true
   },
   "outputs": [],
   "source": [
    "daily_count_dict[\"AT10305\"]"
   ]
  }
 ],
 "metadata": {
  "kernelspec": {
   "display_name": "Python 3 (ipykernel)",
   "language": "python",
   "name": "python3"
  },
  "language_info": {
   "codemirror_mode": {
    "name": "ipython",
    "version": 3
   },
   "file_extension": ".py",
   "mimetype": "text/x-python",
   "name": "python",
   "nbconvert_exporter": "python",
   "pygments_lexer": "ipython3",
   "version": "3.12.9"
  }
 },
 "nbformat": 4,
 "nbformat_minor": 5
}
