{
 "cells": [
  {
   "cell_type": "code",
   "execution_count": 1,
   "id": "1c22285f-36c2-45ca-a70d-b8f5930ae2bf",
   "metadata": {},
   "outputs": [
    {
     "name": "stdout",
     "output_type": "stream",
     "text": [
      "Collecting netCDF4\n",
      "  Downloading netCDF4-1.7.2-cp312-cp312-manylinux_2_17_x86_64.manylinux2014_x86_64.whl.metadata (1.8 kB)\n",
      "Collecting cftime (from netCDF4)\n",
      "  Downloading cftime-1.6.4.post1-cp312-cp312-manylinux_2_17_x86_64.manylinux2014_x86_64.whl.metadata (8.7 kB)\n",
      "Requirement already satisfied: certifi in /opt/conda/lib/python3.12/site-packages (from netCDF4) (2025.1.31)\n",
      "Requirement already satisfied: numpy in /opt/conda/lib/python3.12/site-packages (from netCDF4) (2.1.3)\n",
      "Downloading netCDF4-1.7.2-cp312-cp312-manylinux_2_17_x86_64.manylinux2014_x86_64.whl (9.3 MB)\n",
      "\u001b[2K   \u001b[90m━━━━━━━━━━━━━━━━━━━━━━━━━━━━━━━━━━━━━━━━\u001b[0m \u001b[32m9.3/9.3 MB\u001b[0m \u001b[31m322.7 MB/s\u001b[0m eta \u001b[36m0:00:00\u001b[0m\n",
      "\u001b[?25hDownloading cftime-1.6.4.post1-cp312-cp312-manylinux_2_17_x86_64.manylinux2014_x86_64.whl (1.4 MB)\n",
      "\u001b[2K   \u001b[90m━━━━━━━━━━━━━━━━━━━━━━━━━━━━━━━━━━━━━━━━\u001b[0m \u001b[32m1.4/1.4 MB\u001b[0m \u001b[31m417.1 MB/s\u001b[0m eta \u001b[36m0:00:00\u001b[0m\n",
      "\u001b[?25hInstalling collected packages: cftime, netCDF4\n",
      "Successfully installed cftime-1.6.4.post1 netCDF4-1.7.2\n",
      "Collecting xarray\n",
      "  Downloading xarray-2025.3.1-py3-none-any.whl.metadata (12 kB)\n",
      "Requirement already satisfied: numpy>=1.24 in /opt/conda/lib/python3.12/site-packages (from xarray) (2.1.3)\n",
      "Requirement already satisfied: packaging>=23.2 in /opt/conda/lib/python3.12/site-packages (from xarray) (24.2)\n",
      "Requirement already satisfied: pandas>=2.1 in /opt/conda/lib/python3.12/site-packages (from xarray) (2.2.3)\n",
      "Requirement already satisfied: python-dateutil>=2.8.2 in /opt/conda/lib/python3.12/site-packages (from pandas>=2.1->xarray) (2.9.0.post0)\n",
      "Requirement already satisfied: pytz>=2020.1 in /opt/conda/lib/python3.12/site-packages (from pandas>=2.1->xarray) (2024.1)\n",
      "Requirement already satisfied: tzdata>=2022.7 in /opt/conda/lib/python3.12/site-packages (from pandas>=2.1->xarray) (2025.2)\n",
      "Requirement already satisfied: six>=1.5 in /opt/conda/lib/python3.12/site-packages (from python-dateutil>=2.8.2->pandas>=2.1->xarray) (1.17.0)\n",
      "Downloading xarray-2025.3.1-py3-none-any.whl (1.3 MB)\n",
      "\u001b[2K   \u001b[90m━━━━━━━━━━━━━━━━━━━━━━━━━━━━━━━━━━━━━━━━\u001b[0m \u001b[32m1.3/1.3 MB\u001b[0m \u001b[31m289.8 MB/s\u001b[0m eta \u001b[36m0:00:00\u001b[0m\n",
      "\u001b[?25hInstalling collected packages: xarray\n",
      "Successfully installed xarray-2025.3.1\n"
     ]
    }
   ],
   "source": [
    "# Import neccessary libraries\n",
    "try:\n",
    "    import netCDF4\n",
    "except ImportError:\n",
    "    !pip install netCDF4\n",
    "    import netCDF4\n",
    "\n",
    "try:\n",
    "    import xarray as xr\n",
    "except ImportError:\n",
    "    !pip install xarray\n",
    "    import xarray as xr"
   ]
  },
  {
   "cell_type": "code",
   "execution_count": 2,
   "id": "68a141b6-2c80-4ac6-b3c9-d1890ab2730c",
   "metadata": {},
   "outputs": [
    {
     "name": "stdout",
     "output_type": "stream",
     "text": [
      "<xarray.Dataset> Size: 4GB\n",
      "Dimensions:                  (time: 731, y: 329, x: 584)\n",
      "Coordinates:\n",
      "    lambert_conformal_conic  float64 8B nan\n",
      "    lat                      (y, x) float32 769kB 46.16 46.17 ... 49.11 49.11\n",
      "    lon                      (y, x) float32 769kB 9.609 9.622 ... 17.37 17.38\n",
      "  * time                     (time) datetime64[ns] 6kB 2023-01-01 ... 2024-12-31\n",
      "  * x                        (x) int32 2kB 112500 113500 ... 694500 695500\n",
      "  * y                        (y) int32 1kB 258500 259500 ... 585500 586500\n",
      "Data variables:\n",
      "    RR                       (time, y, x) float64 1GB nan nan nan ... nan nan\n",
      "    SA                       (time, y, x) float64 1GB nan nan nan ... nan nan\n",
      "    TN                       (time, y, x) float64 1GB nan nan nan ... nan nan\n",
      "    TX                       (time, y, x) float64 1GB nan nan nan ... nan nan\n",
      "Attributes: (12/14)\n",
      "    Conventions:         CF-1.7\n",
      "    author:              GeoSphere Austria (kontakt@geosphere.at)\n",
      "    comment:             No additional comments\n",
      "    crs:                 EPSG:3416\n",
      "    freq:                1D\n",
      "    grid_mapping:        lambert_conformal_conic\n",
      "    ...                  ...\n",
      "    name:                spartacus-daily v2.1\n",
      "    references:          temperature - doi:10.1007/s00704-015-1411-4, precipi...\n",
      "    source:              geostatistical interpolation of surface station obse...\n",
      "    spatial_domain:      SPARTACUS\n",
      "    spatial_resolution:  1000\n",
      "    title:               SPARTACUS - Spatial Dataset for Climate in Austria\n"
     ]
    }
   ],
   "source": [
    "# Open and merge the daily data into one table\n",
    "rr_23_d = xr.open_dataset(\"./Data/Weather/Daily/SPARTACUS2-DAILY_RR_2023.nc\")\n",
    "rr_24_d = xr.open_dataset(\"./Data/Weather/Daily/SPARTACUS2-DAILY_RR_2024.nc\")\n",
    "#rr_25_d = xr.open_dataset(\"./Data/Weather/Daily/SPARTACUS2-DAILY_RR_2025.nc\")\n",
    "\n",
    "sa_23_d = xr.open_dataset(\"./Data/Weather/Daily/SPARTACUS2-DAILY_SA_2023.nc\")\n",
    "sa_24_d = xr.open_dataset(\"./Data/Weather/Daily/SPARTACUS2-DAILY_SA_2024.nc\")\n",
    "#sa_25_d = xr.open_dataset(\"./Data/Weather/Daily/SPARTACUS2-DAILY_SA_2025.nc\")\n",
    "\n",
    "tn_23_d = xr.open_dataset(\"./Data/Weather/Daily/SPARTACUS2-DAILY_TN_2023.nc\")\n",
    "tn_24_d = xr.open_dataset(\"./Data/Weather/Daily/SPARTACUS2-DAILY_TN_2024.nc\")\n",
    "#tn_25_d = xr.open_dataset(\"./Data/Weather/Daily/SPARTACUS2-DAILY_TN_2025.nc\")\n",
    "\n",
    "tx_23_d = xr.open_dataset(\"./Data/Weather/Daily/SPARTACUS2-DAILY_TX_2023.nc\")\n",
    "tx_24_d = xr.open_dataset(\"./Data/Weather/Daily/SPARTACUS2-DAILY_TX_2024.nc\")\n",
    "#tx_25_d = xr.open_dataset(\"./Data/Weather/Daily/SPARTACUS2-DAILY_TX_2025.nc\")\n",
    "\n",
    "rr_all_d = xr.concat([rr_23_d, rr_24_d], dim = \"time\") \n",
    "sa_all_d = xr.concat([sa_23_d, sa_24_d], dim = \"time\")\n",
    "tn_all_d = xr.concat([tn_23_d, tn_24_d], dim = \"time\")\n",
    "tx_all_d = xr.concat([tx_23_d, tx_24_d], dim = \"time\")\n",
    "\n",
    "combined_dataset_daily = xr.merge([rr_all_d, sa_all_d, tn_all_d, tx_all_d])\n",
    "\n",
    "combined_dataset_daily.to_netcdf(\"./Data/Weather/SPARTACUS2-DAILY_COMBINED_2023_2024.nc\")\n",
    "\n",
    "print(combined_dataset_daily)"
   ]
  },
  {
   "cell_type": "code",
   "execution_count": 3,
   "id": "0bc40402-556a-46b3-8a91-5855dc3d5971",
   "metadata": {},
   "outputs": [
    {
     "name": "stdout",
     "output_type": "stream",
     "text": [
      "<xarray.Dataset> Size: 112MB\n",
      "Dimensions:                  (time: 24, y: 329, x: 584)\n",
      "Coordinates:\n",
      "    lambert_conformal_conic  float64 8B nan\n",
      "    lat                      (y, x) float32 769kB 46.16 46.17 ... 49.11 49.11\n",
      "    lon                      (y, x) float32 769kB 9.609 9.622 ... 17.37 17.38\n",
      "  * time                     (time) datetime64[ns] 192B 2023-01-01 ... 2024-1...\n",
      "  * x                        (x) int32 2kB 112500 113500 ... 694500 695500\n",
      "  * y                        (y) int32 1kB 258500 259500 ... 585500 586500\n",
      "Data variables:\n",
      "    RR                       (time, y, x) float64 37MB nan nan nan ... nan nan\n",
      "    SA                       (time, y, x) float64 37MB nan nan nan ... nan nan\n",
      "    TM                       (time, y, x) float64 37MB nan nan nan ... nan nan\n",
      "Attributes: (12/14)\n",
      "    Conventions:         CF-1.7\n",
      "    author:              GeoSphere Austria (kontakt@geosphere.at)\n",
      "    comment:             No additional comments\n",
      "    crs:                 EPSG:3416\n",
      "    freq:                1MS\n",
      "    grid_mapping:        lambert_conformal_conic\n",
      "    ...                  ...\n",
      "    name:                spartacus-monthly v2.1\n",
      "    references:          temperature - doi:10.1007/s00704-015-1411-4, precipi...\n",
      "    source:              geostatistical interpolation of surface station obse...\n",
      "    spatial_domain:      SPARTACUS\n",
      "    spatial_resolution:  1000\n",
      "    title:               SPARTACUS - Spatial Dataset for Climate in Austria\n"
     ]
    }
   ],
   "source": [
    "# Open and merge the monthly data into one table\n",
    "rr_23_m = xr.open_dataset(\"./Data/Weather/Monthly/SPARTACUS2-MONTHLY_RR_2023.nc\")\n",
    "rr_24_m = xr.open_dataset(\"./Data/Weather/Monthly/SPARTACUS2-MONTHLY_RR_2024.nc\")\n",
    "#rr_25_m = xr.open_dataset(\"./Data/Weather/Monthly/SPARTACUS2-MONTHLY_RR_2025.nc\")\n",
    "\n",
    "sa_23_m = xr.open_dataset(\"./Data/Weather/Monthly/SPARTACUS2-MONTHLY_SA_2023.nc\")\n",
    "sa_24_m = xr.open_dataset(\"./Data/Weather/Monthly/SPARTACUS2-MONTHLY_SA_2024.nc\")\n",
    "#sa_25_m = xr.open_dataset(\"./Data/Weather/Monthly/SPARTACUS2-MONTHLY_SA_2025.nc\")\n",
    "\n",
    "tm_23_m = xr.open_dataset(\"./Data/Weather/Monthly/SPARTACUS2-MONTHLY_TM_2023.nc\")\n",
    "tm_24_m = xr.open_dataset(\"./Data/Weather/Monthly/SPARTACUS2-MONTHLY_TM_2024.nc\")\n",
    "#tm_25_m = xr.open_dataset(\"./Data/Weather/Monthly/SPARTACUS2-MONTHLY_TM_2025.nc\")\n",
    "\n",
    "rr_all_m = xr.concat([rr_23_m, rr_24_m], dim = \"time\") \n",
    "sa_all_m = xr.concat([sa_23_m, sa_24_m], dim = \"time\")\n",
    "tm_all_m = xr.concat([tm_23_m, tm_24_m], dim = \"time\")\n",
    "\n",
    "combined_dataset_monthly = xr.merge([rr_all_m, sa_all_m, tm_all_m])\n",
    "\n",
    "combined_dataset_monthly.to_netcdf(\"./Data/Weather/SPARTACUS2-MONTHLY_COMBINED_2023_2024.nc\")\n",
    "\n",
    "print(combined_dataset_monthly)"
   ]
  }
 ],
 "metadata": {
  "kernelspec": {
   "display_name": "Python 3 (ipykernel)",
   "language": "python",
   "name": "python3"
  },
  "language_info": {
   "codemirror_mode": {
    "name": "ipython",
    "version": 3
   },
   "file_extension": ".py",
   "mimetype": "text/x-python",
   "name": "python",
   "nbconvert_exporter": "python",
   "pygments_lexer": "ipython3",
   "version": "3.12.9"
  }
 },
 "nbformat": 4,
 "nbformat_minor": 5
}
